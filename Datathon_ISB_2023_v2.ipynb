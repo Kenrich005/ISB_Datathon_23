{
  "nbformat": 4,
  "nbformat_minor": 0,
  "metadata": {
    "colab": {
      "provenance": [],
      "authorship_tag": "ABX9TyNWvGydUIOk5/d776z6EXAe",
      "include_colab_link": true
    },
    "kernelspec": {
      "name": "python3",
      "display_name": "Python 3"
    },
    "language_info": {
      "name": "python"
    }
  },
  "cells": [
    {
      "cell_type": "markdown",
      "metadata": {
        "id": "view-in-github",
        "colab_type": "text"
      },
      "source": [
        "<a href=\"https://colab.research.google.com/github/Kenrich005/ISB_Datathon_23/blob/main/Datathon_ISB_2023_v2.ipynb\" target=\"_parent\"><img src=\"https://colab.research.google.com/assets/colab-badge.svg\" alt=\"Open In Colab\"/></a>"
      ]
    },
    {
      "cell_type": "markdown",
      "source": [
        "## Business Objective\n",
        "\n",
        "Develop a fraud analytics model that helps us (Kaspersky) detect fraud from good and normal user activity and identify precursors to the events"
      ],
      "metadata": {
        "id": "CKbgwaf3JmS9"
      }
    },
    {
      "cell_type": "markdown",
      "source": [
        "Process followed:\n",
        "\n",
        "\n",
        "1.   Data cleaning - eliminating features that are redundant\n",
        "2.   Feature engineering - creating new columns based on existing that would add depth to the outcome\n",
        "3. Clustering - basic clustering to determine which transactions are different than others\n",
        "4. Cluster Analysis - understanding why those clusters were formed, what makes them a cluster, cluster characteristics\n",
        "5. Data Engineering - transposing the data such that the fraud event becomes the target variable, and all other becomes features for the same\n",
        "\n"
      ],
      "metadata": {
        "id": "zMHcjq0gJK-b"
      }
    },
    {
      "cell_type": "code",
      "source": [
        "import pandas as pd\n",
        "import numpy as np\n",
        "import matplotlib.pyplot as plt\n",
        "import seaborn as sns"
      ],
      "metadata": {
        "id": "Da_u8CiwLhm-"
      },
      "execution_count": 1,
      "outputs": []
    },
    {
      "cell_type": "code",
      "source": [
        "df = pd.read_csv('Dataset_Datathon_Fraud_Detection_28122022.csv',encoding= 'unicode_escape')\n",
        "df.shape"
      ],
      "metadata": {
        "colab": {
          "base_uri": "https://localhost:8080/"
        },
        "id": "tkN-p1pOMeM9",
        "outputId": "80e1b4a9-8087-4172-d0da-64eef3988d7c"
      },
      "execution_count": 2,
      "outputs": [
        {
          "output_type": "execute_result",
          "data": {
            "text/plain": [
              "(10969, 21)"
            ]
          },
          "metadata": {},
          "execution_count": 2
        }
      ]
    },
    {
      "cell_type": "code",
      "source": [
        "df.head()"
      ],
      "metadata": {
        "colab": {
          "base_uri": "https://localhost:8080/",
          "height": 490
        },
        "id": "xWRLO7sBMfzt",
        "outputId": "71555436-fd36-4130-e575-17d6aa4ca747"
      },
      "execution_count": 3,
      "outputs": [
        {
          "output_type": "execute_result",
          "data": {
            "text/plain": [
              "     customer_id      event_dttm_Deli    event_type_nm  \\\n",
              "0  customer_id_0  2022-10-01 10:51:36  CHANGE_PASSWORD   \n",
              "1  customer_id_0  2022-10-01 11:15:21   SESSION_SIGNIN   \n",
              "2  customer_id_0  2022-10-01 11:31:55   SESSION_SIGNIN   \n",
              "3  customer_id_0  2022-10-01 11:45:42   SESSION_SIGNIN   \n",
              "4  customer_id_0  2022-10-03 10:28:24          DEPOSIT   \n",
              "\n",
              "  client_defined_event_type_nm               event_desc  \\\n",
              "0                        RENEW  Login password recovery   \n",
              "1               SESSION_SIGNIN                    Login   \n",
              "2               SESSION_SIGNIN                    Login   \n",
              "3               SESSION_SIGNIN                    Login   \n",
              "4                      100_BKO            Payment order   \n",
              "\n",
              "   operaton_amt_100 (rupees)  active phone call remote desktop protokol  \\\n",
              "0                        0.0                NaN                     NaN   \n",
              "1                        0.0                NaN                     NaN   \n",
              "2                        0.0                NaN                     NaN   \n",
              "3                        0.0                NaN                     NaN   \n",
              "4                   116820.0                1.0                   False   \n",
              "\n",
              "   emulator              f  ...   os device_model screensize  \\\n",
              "0       NaN  St Petersburg  ...  NaN          NaN        NaN   \n",
              "1       NaN  St Petersburg  ...  NaN          NaN        NaN   \n",
              "2       NaN  St Petersburg  ...  NaN          NaN        NaN   \n",
              "3       NaN  St Petersburg  ...  NaN          NaN        NaN   \n",
              "4       NaN            NaN  ...  iOS       iPhone    375x812   \n",
              "\n",
              "  agentconnectiontype  screen_hash  device for user reciever  \\\n",
              "0                 NaN  287067538.0              new      old   \n",
              "1                 NaN  287067538.0              new      old   \n",
              "2                 NaN -205759950.0              new      old   \n",
              "3                 NaN  287067538.0              new      old   \n",
              "4                wifi          NaN              NaN      old   \n",
              "\n",
              "            password change fast change of ip ip not equal to previous  \n",
              "0                       NaN               NaN              IP differes  \n",
              "1  happened on the same day               NaN              IP differes  \n",
              "2  happened on the same day               NaN              IP differes  \n",
              "3  happened on the same day               NaN              IP differes  \n",
              "4                       NaN               NaN                      NaN  \n",
              "\n",
              "[5 rows x 21 columns]"
            ],
            "text/html": [
              "\n",
              "  <div id=\"df-6727e7e3-3bef-4918-bb09-1247b1548084\">\n",
              "    <div class=\"colab-df-container\">\n",
              "      <div>\n",
              "<style scoped>\n",
              "    .dataframe tbody tr th:only-of-type {\n",
              "        vertical-align: middle;\n",
              "    }\n",
              "\n",
              "    .dataframe tbody tr th {\n",
              "        vertical-align: top;\n",
              "    }\n",
              "\n",
              "    .dataframe thead th {\n",
              "        text-align: right;\n",
              "    }\n",
              "</style>\n",
              "<table border=\"1\" class=\"dataframe\">\n",
              "  <thead>\n",
              "    <tr style=\"text-align: right;\">\n",
              "      <th></th>\n",
              "      <th>customer_id</th>\n",
              "      <th>event_dttm_Deli</th>\n",
              "      <th>event_type_nm</th>\n",
              "      <th>client_defined_event_type_nm</th>\n",
              "      <th>event_desc</th>\n",
              "      <th>operaton_amt_100 (rupees)</th>\n",
              "      <th>active phone call</th>\n",
              "      <th>remote desktop protokol</th>\n",
              "      <th>emulator</th>\n",
              "      <th>f</th>\n",
              "      <th>...</th>\n",
              "      <th>os</th>\n",
              "      <th>device_model</th>\n",
              "      <th>screensize</th>\n",
              "      <th>agentconnectiontype</th>\n",
              "      <th>screen_hash</th>\n",
              "      <th>device for user</th>\n",
              "      <th>reciever</th>\n",
              "      <th>password change</th>\n",
              "      <th>fast change of ip</th>\n",
              "      <th>ip not equal to previous</th>\n",
              "    </tr>\n",
              "  </thead>\n",
              "  <tbody>\n",
              "    <tr>\n",
              "      <th>0</th>\n",
              "      <td>customer_id_0</td>\n",
              "      <td>2022-10-01 10:51:36</td>\n",
              "      <td>CHANGE_PASSWORD</td>\n",
              "      <td>RENEW</td>\n",
              "      <td>Login password recovery</td>\n",
              "      <td>0.0</td>\n",
              "      <td>NaN</td>\n",
              "      <td>NaN</td>\n",
              "      <td>NaN</td>\n",
              "      <td>St Petersburg</td>\n",
              "      <td>...</td>\n",
              "      <td>NaN</td>\n",
              "      <td>NaN</td>\n",
              "      <td>NaN</td>\n",
              "      <td>NaN</td>\n",
              "      <td>287067538.0</td>\n",
              "      <td>new</td>\n",
              "      <td>old</td>\n",
              "      <td>NaN</td>\n",
              "      <td>NaN</td>\n",
              "      <td>IP differes</td>\n",
              "    </tr>\n",
              "    <tr>\n",
              "      <th>1</th>\n",
              "      <td>customer_id_0</td>\n",
              "      <td>2022-10-01 11:15:21</td>\n",
              "      <td>SESSION_SIGNIN</td>\n",
              "      <td>SESSION_SIGNIN</td>\n",
              "      <td>Login</td>\n",
              "      <td>0.0</td>\n",
              "      <td>NaN</td>\n",
              "      <td>NaN</td>\n",
              "      <td>NaN</td>\n",
              "      <td>St Petersburg</td>\n",
              "      <td>...</td>\n",
              "      <td>NaN</td>\n",
              "      <td>NaN</td>\n",
              "      <td>NaN</td>\n",
              "      <td>NaN</td>\n",
              "      <td>287067538.0</td>\n",
              "      <td>new</td>\n",
              "      <td>old</td>\n",
              "      <td>happened on the same day</td>\n",
              "      <td>NaN</td>\n",
              "      <td>IP differes</td>\n",
              "    </tr>\n",
              "    <tr>\n",
              "      <th>2</th>\n",
              "      <td>customer_id_0</td>\n",
              "      <td>2022-10-01 11:31:55</td>\n",
              "      <td>SESSION_SIGNIN</td>\n",
              "      <td>SESSION_SIGNIN</td>\n",
              "      <td>Login</td>\n",
              "      <td>0.0</td>\n",
              "      <td>NaN</td>\n",
              "      <td>NaN</td>\n",
              "      <td>NaN</td>\n",
              "      <td>St Petersburg</td>\n",
              "      <td>...</td>\n",
              "      <td>NaN</td>\n",
              "      <td>NaN</td>\n",
              "      <td>NaN</td>\n",
              "      <td>NaN</td>\n",
              "      <td>-205759950.0</td>\n",
              "      <td>new</td>\n",
              "      <td>old</td>\n",
              "      <td>happened on the same day</td>\n",
              "      <td>NaN</td>\n",
              "      <td>IP differes</td>\n",
              "    </tr>\n",
              "    <tr>\n",
              "      <th>3</th>\n",
              "      <td>customer_id_0</td>\n",
              "      <td>2022-10-01 11:45:42</td>\n",
              "      <td>SESSION_SIGNIN</td>\n",
              "      <td>SESSION_SIGNIN</td>\n",
              "      <td>Login</td>\n",
              "      <td>0.0</td>\n",
              "      <td>NaN</td>\n",
              "      <td>NaN</td>\n",
              "      <td>NaN</td>\n",
              "      <td>St Petersburg</td>\n",
              "      <td>...</td>\n",
              "      <td>NaN</td>\n",
              "      <td>NaN</td>\n",
              "      <td>NaN</td>\n",
              "      <td>NaN</td>\n",
              "      <td>287067538.0</td>\n",
              "      <td>new</td>\n",
              "      <td>old</td>\n",
              "      <td>happened on the same day</td>\n",
              "      <td>NaN</td>\n",
              "      <td>IP differes</td>\n",
              "    </tr>\n",
              "    <tr>\n",
              "      <th>4</th>\n",
              "      <td>customer_id_0</td>\n",
              "      <td>2022-10-03 10:28:24</td>\n",
              "      <td>DEPOSIT</td>\n",
              "      <td>100_BKO</td>\n",
              "      <td>Payment order</td>\n",
              "      <td>116820.0</td>\n",
              "      <td>1.0</td>\n",
              "      <td>False</td>\n",
              "      <td>NaN</td>\n",
              "      <td>NaN</td>\n",
              "      <td>...</td>\n",
              "      <td>iOS</td>\n",
              "      <td>iPhone</td>\n",
              "      <td>375x812</td>\n",
              "      <td>wifi</td>\n",
              "      <td>NaN</td>\n",
              "      <td>NaN</td>\n",
              "      <td>old</td>\n",
              "      <td>NaN</td>\n",
              "      <td>NaN</td>\n",
              "      <td>NaN</td>\n",
              "    </tr>\n",
              "  </tbody>\n",
              "</table>\n",
              "<p>5 rows × 21 columns</p>\n",
              "</div>\n",
              "      <button class=\"colab-df-convert\" onclick=\"convertToInteractive('df-6727e7e3-3bef-4918-bb09-1247b1548084')\"\n",
              "              title=\"Convert this dataframe to an interactive table.\"\n",
              "              style=\"display:none;\">\n",
              "        \n",
              "  <svg xmlns=\"http://www.w3.org/2000/svg\" height=\"24px\"viewBox=\"0 0 24 24\"\n",
              "       width=\"24px\">\n",
              "    <path d=\"M0 0h24v24H0V0z\" fill=\"none\"/>\n",
              "    <path d=\"M18.56 5.44l.94 2.06.94-2.06 2.06-.94-2.06-.94-.94-2.06-.94 2.06-2.06.94zm-11 1L8.5 8.5l.94-2.06 2.06-.94-2.06-.94L8.5 2.5l-.94 2.06-2.06.94zm10 10l.94 2.06.94-2.06 2.06-.94-2.06-.94-.94-2.06-.94 2.06-2.06.94z\"/><path d=\"M17.41 7.96l-1.37-1.37c-.4-.4-.92-.59-1.43-.59-.52 0-1.04.2-1.43.59L10.3 9.45l-7.72 7.72c-.78.78-.78 2.05 0 2.83L4 21.41c.39.39.9.59 1.41.59.51 0 1.02-.2 1.41-.59l7.78-7.78 2.81-2.81c.8-.78.8-2.07 0-2.86zM5.41 20L4 18.59l7.72-7.72 1.47 1.35L5.41 20z\"/>\n",
              "  </svg>\n",
              "      </button>\n",
              "      \n",
              "  <style>\n",
              "    .colab-df-container {\n",
              "      display:flex;\n",
              "      flex-wrap:wrap;\n",
              "      gap: 12px;\n",
              "    }\n",
              "\n",
              "    .colab-df-convert {\n",
              "      background-color: #E8F0FE;\n",
              "      border: none;\n",
              "      border-radius: 50%;\n",
              "      cursor: pointer;\n",
              "      display: none;\n",
              "      fill: #1967D2;\n",
              "      height: 32px;\n",
              "      padding: 0 0 0 0;\n",
              "      width: 32px;\n",
              "    }\n",
              "\n",
              "    .colab-df-convert:hover {\n",
              "      background-color: #E2EBFA;\n",
              "      box-shadow: 0px 1px 2px rgba(60, 64, 67, 0.3), 0px 1px 3px 1px rgba(60, 64, 67, 0.15);\n",
              "      fill: #174EA6;\n",
              "    }\n",
              "\n",
              "    [theme=dark] .colab-df-convert {\n",
              "      background-color: #3B4455;\n",
              "      fill: #D2E3FC;\n",
              "    }\n",
              "\n",
              "    [theme=dark] .colab-df-convert:hover {\n",
              "      background-color: #434B5C;\n",
              "      box-shadow: 0px 1px 3px 1px rgba(0, 0, 0, 0.15);\n",
              "      filter: drop-shadow(0px 1px 2px rgba(0, 0, 0, 0.3));\n",
              "      fill: #FFFFFF;\n",
              "    }\n",
              "  </style>\n",
              "\n",
              "      <script>\n",
              "        const buttonEl =\n",
              "          document.querySelector('#df-6727e7e3-3bef-4918-bb09-1247b1548084 button.colab-df-convert');\n",
              "        buttonEl.style.display =\n",
              "          google.colab.kernel.accessAllowed ? 'block' : 'none';\n",
              "\n",
              "        async function convertToInteractive(key) {\n",
              "          const element = document.querySelector('#df-6727e7e3-3bef-4918-bb09-1247b1548084');\n",
              "          const dataTable =\n",
              "            await google.colab.kernel.invokeFunction('convertToInteractive',\n",
              "                                                     [key], {});\n",
              "          if (!dataTable) return;\n",
              "\n",
              "          const docLinkHtml = 'Like what you see? Visit the ' +\n",
              "            '<a target=\"_blank\" href=https://colab.research.google.com/notebooks/data_table.ipynb>data table notebook</a>'\n",
              "            + ' to learn more about interactive tables.';\n",
              "          element.innerHTML = '';\n",
              "          dataTable['output_type'] = 'display_data';\n",
              "          await google.colab.output.renderOutput(dataTable, element);\n",
              "          const docLink = document.createElement('div');\n",
              "          docLink.innerHTML = docLinkHtml;\n",
              "          element.appendChild(docLink);\n",
              "        }\n",
              "      </script>\n",
              "    </div>\n",
              "  </div>\n",
              "  "
            ]
          },
          "metadata": {},
          "execution_count": 3
        }
      ]
    },
    {
      "cell_type": "code",
      "source": [
        "df.info()"
      ],
      "metadata": {
        "colab": {
          "base_uri": "https://localhost:8080/"
        },
        "id": "932fuasDMiK6",
        "outputId": "ce3e5b2d-81e4-4e4a-e4b9-183e24f34075"
      },
      "execution_count": 4,
      "outputs": [
        {
          "output_type": "stream",
          "name": "stdout",
          "text": [
            "<class 'pandas.core.frame.DataFrame'>\n",
            "RangeIndex: 10969 entries, 0 to 10968\n",
            "Data columns (total 21 columns):\n",
            " #   Column                        Non-Null Count  Dtype  \n",
            "---  ------                        --------------  -----  \n",
            " 0   customer_id                   10969 non-null  object \n",
            " 1   event_dttm_Deli               10969 non-null  object \n",
            " 2   event_type_nm                 10969 non-null  object \n",
            " 3   client_defined_event_type_nm  9554 non-null   object \n",
            " 4   event_desc                    10800 non-null  object \n",
            " 5   operaton_amt_100 (rupees)     10969 non-null  float64\n",
            " 6   active phone call             3778 non-null   float64\n",
            " 7   remote desktop protokol       3786 non-null   object \n",
            " 8   emulator                      2923 non-null   float64\n",
            " 9   f                             4666 non-null   object \n",
            " 10  device_id                     3786 non-null   object \n",
            " 11  os                            3786 non-null   object \n",
            " 12  device_model                  3786 non-null   object \n",
            " 13  screensize                    3786 non-null   object \n",
            " 14  agentconnectiontype           863 non-null    object \n",
            " 15  screen_hash                   1167 non-null   float64\n",
            " 16  device for user               4727 non-null   object \n",
            " 17  reciever                      10969 non-null  object \n",
            " 18  password change               1707 non-null   object \n",
            " 19  fast change of ip             128 non-null    object \n",
            " 20  ip not equal to previous      3796 non-null   object \n",
            "dtypes: float64(4), object(17)\n",
            "memory usage: 1.8+ MB\n"
          ]
        }
      ]
    },
    {
      "cell_type": "markdown",
      "source": [
        "## Understanding the data\n",
        "We are given with user activity history. \n",
        "Each activity is defined by 20 features. \n",
        "We see that considerable amount of data is null. \n",
        "Most importantly, we notice that we do not have a target variable. \n",
        "i.e. we do not know which activity is fraud.  \n",
        "\n",
        "So, our foremost task then becomes to identify which transaction should be considered fraud, and have a strong backing to support it.  \n",
        "Because, if our understanding of fraud transaction is incorrect, the model built therefore would also be incorrect.   \n",
        "  \n",
        "Let us understand each parameter one at a time"
      ],
      "metadata": {
        "id": "oJoiTOHzMtLb"
      }
    },
    {
      "cell_type": "markdown",
      "source": [
        "### **customer_id**"
      ],
      "metadata": {
        "id": "yerB6vh7OTXx"
      }
    },
    {
      "cell_type": "code",
      "source": [
        "# Number of unique customer_id\n",
        "df.customer_id.nunique()"
      ],
      "metadata": {
        "colab": {
          "base_uri": "https://localhost:8080/"
        },
        "id": "vnxCSjkKMlil",
        "outputId": "e36a5aad-11ee-40b2-e187-7a4e5519ed5d"
      },
      "execution_count": 5,
      "outputs": [
        {
          "output_type": "execute_result",
          "data": {
            "text/plain": [
              "200"
            ]
          },
          "metadata": {},
          "execution_count": 5
        }
      ]
    },
    {
      "cell_type": "code",
      "source": [
        "# Number of transaction done by each customer\n",
        "df.customer_id.value_counts()"
      ],
      "metadata": {
        "colab": {
          "base_uri": "https://localhost:8080/"
        },
        "id": "E967pqg7OfKy",
        "outputId": "3facec4e-b821-40d2-a640-b92071de6eaf"
      },
      "execution_count": 6,
      "outputs": [
        {
          "output_type": "execute_result",
          "data": {
            "text/plain": [
              "customer_id_113    1430\n",
              "customer_id_168    1002\n",
              "customer_id_178     694\n",
              "customer_id_196     219\n",
              "customer_id_129     218\n",
              "                   ... \n",
              "customer_id_156       4\n",
              "customer_id_119       4\n",
              "customer_id_137       4\n",
              "customer_id_24        3\n",
              "customer_id_169       3\n",
              "Name: customer_id, Length: 200, dtype: int64"
            ]
          },
          "metadata": {},
          "execution_count": 6
        }
      ]
    },
    {
      "cell_type": "code",
      "source": [
        "# Too huge disparity!!! (Red Flag)\n",
        "# Why some customers have just 3 transactions, while some have over 1000"
      ],
      "metadata": {
        "id": "2NcR61LnOpOJ"
      },
      "execution_count": null,
      "outputs": []
    },
    {
      "cell_type": "code",
      "source": [
        "plt.figure(figsize=(18,5))\n",
        "df.customer_id.value_counts().plot(kind='bar');"
      ],
      "metadata": {
        "colab": {
          "base_uri": "https://localhost:8080/",
          "height": 395
        },
        "id": "qZPpd1ddWnsk",
        "outputId": "edb61e59-47c3-4941-acc6-3139ab393f14"
      },
      "execution_count": 14,
      "outputs": [
        {
          "output_type": "display_data",
          "data": {
            "text/plain": [
              "<Figure size 1296x360 with 1 Axes>"
            ],
            "image/png": "[encoded data removed]"
          },
          "metadata": {
            "needs_background": "light"
          }
        }
      ]
    },
    {
      "cell_type": "code",
      "source": [
        "plt.figure(figsize=(18,5))\n",
        "sns.boxplot(x=df.customer_id.value_counts())\n",
        "plt.xticks(np.arange(0,1500,50));"
      ],
      "metadata": {
        "colab": {
          "base_uri": "https://localhost:8080/",
          "height": 335
        },
        "id": "iGkJzbOXZWOK",
        "outputId": "d303ccd5-2953-4d57-9cfa-7af4ecc65fe8"
      },
      "execution_count": 19,
      "outputs": [
        {
          "output_type": "display_data",
          "data": {
            "text/plain": [
              "<Figure size 1296x360 with 1 Axes>"
            ],
            "image/png": "[encoded data removed]"
          },
          "metadata": {
            "needs_background": "light"
          }
        }
      ]
    },
    {
      "cell_type": "markdown",
      "source": [
        "Upon further examination, we see that only 3 customers have more than 600 events. About 75% customers have just 50 events.  \n",
        "We sample one of the customers with low events to see if there is any story there."
      ],
      "metadata": {
        "id": "RsBskuAlZkcC"
      }
    },
    {
      "cell_type": "code",
      "source": [
        "df[df.customer_id==\"customer_id_119\"]"
      ],
      "metadata": {
        "colab": {
          "base_uri": "https://localhost:8080/",
          "height": 372
        },
        "id": "HqwUz5bHO9l2",
        "outputId": "0845a16a-e0f9-4f9d-d3f4-4cb34f18735d"
      },
      "execution_count": null,
      "outputs": [
        {
          "output_type": "execute_result",
          "data": {
            "text/plain": [
              "          customer_id      event_dttm_Deli   event_type_nm  \\\n",
              "5992  customer_id_119  2022-10-18 19:26:21  SESSION_SIGNIN   \n",
              "5993  customer_id_119  2022-10-19 12:53:32         PAYMENT   \n",
              "5994  customer_id_119  2022-10-19 15:29:13         PAYMENT   \n",
              "5995  customer_id_119  2022-10-20 16:18:08         PAYMENT   \n",
              "\n",
              "     client_defined_event_type_nm event_desc  operaton_amt_100 (rupees)  \\\n",
              "5992                          NaN      Login                       0.00   \n",
              "5993                 POS_PURCHASE   Purchase                     177.00   \n",
              "5994                 POS_PURCHASE   Purchase                     200.60   \n",
              "5995                 POS_PURCHASE   Purchase                     376.42   \n",
              "\n",
              "      active phone call remote desktop protokol  emulator      f  ...  \\\n",
              "5992                0.0                   False       0.0  Surat  ...   \n",
              "5993                NaN                     NaN       NaN    NaN  ...   \n",
              "5994                NaN                     NaN       NaN    NaN  ...   \n",
              "5995                NaN                     NaN       NaN    NaN  ...   \n",
              "\n",
              "           os       device_model screensize agentconnectiontype screen_hash  \\\n",
              "5992  Android  Xiaomi M2003J15SC  1080x2110                 NaN         NaN   \n",
              "5993      NaN                NaN        NaN                 NaN         NaN   \n",
              "5994      NaN                NaN        NaN                 NaN         NaN   \n",
              "5995      NaN                NaN        NaN                 NaN         NaN   \n",
              "\n",
              "      device for user reciever password change fast change of ip  \\\n",
              "5992              old      old             NaN               NaN   \n",
              "5993              NaN      old             NaN               NaN   \n",
              "5994              NaN      old             NaN               NaN   \n",
              "5995              NaN      old             NaN               NaN   \n",
              "\n",
              "     ip not equal to previous  \n",
              "5992              IP differes  \n",
              "5993                      NaN  \n",
              "5994                      NaN  \n",
              "5995                      NaN  \n",
              "\n",
              "[4 rows x 21 columns]"
            ],
            "text/html": [
              "\n",
              "  <div id=\"df-5de9680c-ceaf-475a-ab3b-fe943ed7ef60\">\n",
              "    <div class=\"colab-df-container\">\n",
              "      <div>\n",
              "<style scoped>\n",
              "    .dataframe tbody tr th:only-of-type {\n",
              "        vertical-align: middle;\n",
              "    }\n",
              "\n",
              "    .dataframe tbody tr th {\n",
              "        vertical-align: top;\n",
              "    }\n",
              "\n",
              "    .dataframe thead th {\n",
              "        text-align: right;\n",
              "    }\n",
              "</style>\n",
              "<table border=\"1\" class=\"dataframe\">\n",
              "  <thead>\n",
              "    <tr style=\"text-align: right;\">\n",
              "      <th></th>\n",
              "      <th>customer_id</th>\n",
              "      <th>event_dttm_Deli</th>\n",
              "      <th>event_type_nm</th>\n",
              "      <th>client_defined_event_type_nm</th>\n",
              "      <th>event_desc</th>\n",
              "      <th>operaton_amt_100 (rupees)</th>\n",
              "      <th>active phone call</th>\n",
              "      <th>remote desktop protokol</th>\n",
              "      <th>emulator</th>\n",
              "      <th>f</th>\n",
              "      <th>...</th>\n",
              "      <th>os</th>\n",
              "      <th>device_model</th>\n",
              "      <th>screensize</th>\n",
              "      <th>agentconnectiontype</th>\n",
              "      <th>screen_hash</th>\n",
              "      <th>device for user</th>\n",
              "      <th>reciever</th>\n",
              "      <th>password change</th>\n",
              "      <th>fast change of ip</th>\n",
              "      <th>ip not equal to previous</th>\n",
              "    </tr>\n",
              "  </thead>\n",
              "  <tbody>\n",
              "    <tr>\n",
              "      <th>5992</th>\n",
              "      <td>customer_id_119</td>\n",
              "      <td>2022-10-18 19:26:21</td>\n",
              "      <td>SESSION_SIGNIN</td>\n",
              "      <td>NaN</td>\n",
              "      <td>Login</td>\n",
              "      <td>0.00</td>\n",
              "      <td>0.0</td>\n",
              "      <td>False</td>\n",
              "      <td>0.0</td>\n",
              "      <td>Surat</td>\n",
              "      <td>...</td>\n",
              "      <td>Android</td>\n",
              "      <td>Xiaomi M2003J15SC</td>\n",
              "      <td>1080x2110</td>\n",
              "      <td>NaN</td>\n",
              "      <td>NaN</td>\n",
              "      <td>old</td>\n",
              "      <td>old</td>\n",
              "      <td>NaN</td>\n",
              "      <td>NaN</td>\n",
              "      <td>IP differes</td>\n",
              "    </tr>\n",
              "    <tr>\n",
              "      <th>5993</th>\n",
              "      <td>customer_id_119</td>\n",
              "      <td>2022-10-19 12:53:32</td>\n",
              "      <td>PAYMENT</td>\n",
              "      <td>POS_PURCHASE</td>\n",
              "      <td>Purchase</td>\n",
              "      <td>177.00</td>\n",
              "      <td>NaN</td>\n",
              "      <td>NaN</td>\n",
              "      <td>NaN</td>\n",
              "      <td>NaN</td>\n",
              "      <td>...</td>\n",
              "      <td>NaN</td>\n",
              "      <td>NaN</td>\n",
              "      <td>NaN</td>\n",
              "      <td>NaN</td>\n",
              "      <td>NaN</td>\n",
              "      <td>NaN</td>\n",
              "      <td>old</td>\n",
              "      <td>NaN</td>\n",
              "      <td>NaN</td>\n",
              "      <td>NaN</td>\n",
              "    </tr>\n",
              "    <tr>\n",
              "      <th>5994</th>\n",
              "      <td>customer_id_119</td>\n",
              "      <td>2022-10-19 15:29:13</td>\n",
              "      <td>PAYMENT</td>\n",
              "      <td>POS_PURCHASE</td>\n",
              "      <td>Purchase</td>\n",
              "      <td>200.60</td>\n",
              "      <td>NaN</td>\n",
              "      <td>NaN</td>\n",
              "      <td>NaN</td>\n",
              "      <td>NaN</td>\n",
              "      <td>...</td>\n",
              "      <td>NaN</td>\n",
              "      <td>NaN</td>\n",
              "      <td>NaN</td>\n",
              "      <td>NaN</td>\n",
              "      <td>NaN</td>\n",
              "      <td>NaN</td>\n",
              "      <td>old</td>\n",
              "      <td>NaN</td>\n",
              "      <td>NaN</td>\n",
              "      <td>NaN</td>\n",
              "    </tr>\n",
              "    <tr>\n",
              "      <th>5995</th>\n",
              "      <td>customer_id_119</td>\n",
              "      <td>2022-10-20 16:18:08</td>\n",
              "      <td>PAYMENT</td>\n",
              "      <td>POS_PURCHASE</td>\n",
              "      <td>Purchase</td>\n",
              "      <td>376.42</td>\n",
              "      <td>NaN</td>\n",
              "      <td>NaN</td>\n",
              "      <td>NaN</td>\n",
              "      <td>NaN</td>\n",
              "      <td>...</td>\n",
              "      <td>NaN</td>\n",
              "      <td>NaN</td>\n",
              "      <td>NaN</td>\n",
              "      <td>NaN</td>\n",
              "      <td>NaN</td>\n",
              "      <td>NaN</td>\n",
              "      <td>old</td>\n",
              "      <td>NaN</td>\n",
              "      <td>NaN</td>\n",
              "      <td>NaN</td>\n",
              "    </tr>\n",
              "  </tbody>\n",
              "</table>\n",
              "<p>4 rows × 21 columns</p>\n",
              "</div>\n",
              "      <button class=\"colab-df-convert\" onclick=\"convertToInteractive('df-5de9680c-ceaf-475a-ab3b-fe943ed7ef60')\"\n",
              "              title=\"Convert this dataframe to an interactive table.\"\n",
              "              style=\"display:none;\">\n",
              "        \n",
              "  <svg xmlns=\"http://www.w3.org/2000/svg\" height=\"24px\"viewBox=\"0 0 24 24\"\n",
              "       width=\"24px\">\n",
              "    <path d=\"M0 0h24v24H0V0z\" fill=\"none\"/>\n",
              "    <path d=\"M18.56 5.44l.94 2.06.94-2.06 2.06-.94-2.06-.94-.94-2.06-.94 2.06-2.06.94zm-11 1L8.5 8.5l.94-2.06 2.06-.94-2.06-.94L8.5 2.5l-.94 2.06-2.06.94zm10 10l.94 2.06.94-2.06 2.06-.94-2.06-.94-.94-2.06-.94 2.06-2.06.94z\"/><path d=\"M17.41 7.96l-1.37-1.37c-.4-.4-.92-.59-1.43-.59-.52 0-1.04.2-1.43.59L10.3 9.45l-7.72 7.72c-.78.78-.78 2.05 0 2.83L4 21.41c.39.39.9.59 1.41.59.51 0 1.02-.2 1.41-.59l7.78-7.78 2.81-2.81c.8-.78.8-2.07 0-2.86zM5.41 20L4 18.59l7.72-7.72 1.47 1.35L5.41 20z\"/>\n",
              "  </svg>\n",
              "      </button>\n",
              "      \n",
              "  <style>\n",
              "    .colab-df-container {\n",
              "      display:flex;\n",
              "      flex-wrap:wrap;\n",
              "      gap: 12px;\n",
              "    }\n",
              "\n",
              "    .colab-df-convert {\n",
              "      background-color: #E8F0FE;\n",
              "      border: none;\n",
              "      border-radius: 50%;\n",
              "      cursor: pointer;\n",
              "      display: none;\n",
              "      fill: #1967D2;\n",
              "      height: 32px;\n",
              "      padding: 0 0 0 0;\n",
              "      width: 32px;\n",
              "    }\n",
              "\n",
              "    .colab-df-convert:hover {\n",
              "      background-color: #E2EBFA;\n",
              "      box-shadow: 0px 1px 2px rgba(60, 64, 67, 0.3), 0px 1px 3px 1px rgba(60, 64, 67, 0.15);\n",
              "      fill: #174EA6;\n",
              "    }\n",
              "\n",
              "    [theme=dark] .colab-df-convert {\n",
              "      background-color: #3B4455;\n",
              "      fill: #D2E3FC;\n",
              "    }\n",
              "\n",
              "    [theme=dark] .colab-df-convert:hover {\n",
              "      background-color: #434B5C;\n",
              "      box-shadow: 0px 1px 3px 1px rgba(0, 0, 0, 0.15);\n",
              "      filter: drop-shadow(0px 1px 2px rgba(0, 0, 0, 0.3));\n",
              "      fill: #FFFFFF;\n",
              "    }\n",
              "  </style>\n",
              "\n",
              "      <script>\n",
              "        const buttonEl =\n",
              "          document.querySelector('#df-5de9680c-ceaf-475a-ab3b-fe943ed7ef60 button.colab-df-convert');\n",
              "        buttonEl.style.display =\n",
              "          google.colab.kernel.accessAllowed ? 'block' : 'none';\n",
              "\n",
              "        async function convertToInteractive(key) {\n",
              "          const element = document.querySelector('#df-5de9680c-ceaf-475a-ab3b-fe943ed7ef60');\n",
              "          const dataTable =\n",
              "            await google.colab.kernel.invokeFunction('convertToInteractive',\n",
              "                                                     [key], {});\n",
              "          if (!dataTable) return;\n",
              "\n",
              "          const docLinkHtml = 'Like what you see? Visit the ' +\n",
              "            '<a target=\"_blank\" href=https://colab.research.google.com/notebooks/data_table.ipynb>data table notebook</a>'\n",
              "            + ' to learn more about interactive tables.';\n",
              "          element.innerHTML = '';\n",
              "          dataTable['output_type'] = 'display_data';\n",
              "          await google.colab.output.renderOutput(dataTable, element);\n",
              "          const docLink = document.createElement('div');\n",
              "          docLink.innerHTML = docLinkHtml;\n",
              "          element.appendChild(docLink);\n",
              "        }\n",
              "      </script>\n",
              "    </div>\n",
              "  </div>\n",
              "  "
            ]
          },
          "metadata": {},
          "execution_count": 12
        }
      ]
    },
    {
      "cell_type": "markdown",
      "source": [
        "### **event_dttm_Deli**"
      ],
      "metadata": {
        "id": "W5ZN9iHebe6l"
      }
    },
    {
      "cell_type": "code",
      "source": [
        "# Number of unique event_dttm_Deli\n",
        "df.event_dttm_Deli.nunique()"
      ],
      "metadata": {
        "id": "pgZ8god-PBtX",
        "colab": {
          "base_uri": "https://localhost:8080/"
        },
        "outputId": "9d018eaf-457a-4153-d212-b3ccad21d9f7"
      },
      "execution_count": 27,
      "outputs": [
        {
          "output_type": "execute_result",
          "data": {
            "text/plain": [
              "10837"
            ]
          },
          "metadata": {},
          "execution_count": 27
        }
      ]
    },
    {
      "cell_type": "code",
      "source": [
        "# Converting to datetime format\n",
        "df.event_dttm_Deli = pd.to_datetime(df.event_dttm_Deli)\n",
        "\n",
        "# Start Datetime\n",
        "min(df.event_dttm_Deli)"
      ],
      "metadata": {
        "colab": {
          "base_uri": "https://localhost:8080/"
        },
        "id": "RzL7q17gbniw",
        "outputId": "9e6ac011-62c6-4655-b22b-6b9724b41d58"
      },
      "execution_count": 28,
      "outputs": [
        {
          "output_type": "execute_result",
          "data": {
            "text/plain": [
              "Timestamp('2022-09-22 17:43:37')"
            ]
          },
          "metadata": {},
          "execution_count": 28
        }
      ]
    },
    {
      "cell_type": "code",
      "source": [
        "# End Datetime\n",
        "max(df.event_dttm_Deli)"
      ],
      "metadata": {
        "colab": {
          "base_uri": "https://localhost:8080/"
        },
        "id": "SRuBE7XWbx7b",
        "outputId": "7fa8bb22-c2fc-4896-ac05-9f516da0113e"
      },
      "execution_count": 29,
      "outputs": [
        {
          "output_type": "execute_result",
          "data": {
            "text/plain": [
              "Timestamp('2022-11-23 19:53:06')"
            ]
          },
          "metadata": {},
          "execution_count": 29
        }
      ]
    },
    {
      "cell_type": "code",
      "source": [
        "# Datetime Range\n",
        "\n",
        "\n",
        "max(df.event_dttm_Deli) - min(df.event_dttm_Deli)"
      ],
      "metadata": {
        "colab": {
          "base_uri": "https://localhost:8080/"
        },
        "id": "ivR2S-itb2XD",
        "outputId": "929b25fb-8d30-44f6-f607-06f008be03fc"
      },
      "execution_count": 30,
      "outputs": [
        {
          "output_type": "execute_result",
          "data": {
            "text/plain": [
              "Timedelta('62 days 02:09:29')"
            ]
          },
          "metadata": {},
          "execution_count": 30
        }
      ]
    },
    {
      "cell_type": "code",
      "source": [
        "df['weekday'] = df['event_dttm_Deli'].apply(lambda x: x.weekday())\n",
        "df['weekday'].value_counts()"
      ],
      "metadata": {
        "colab": {
          "base_uri": "https://localhost:8080/"
        },
        "id": "a0nmago0b_BZ",
        "outputId": "c9e7d7a4-7770-4ec0-fcb5-295f8a350131"
      },
      "execution_count": 31,
      "outputs": [
        {
          "output_type": "execute_result",
          "data": {
            "text/plain": [
              "5    1759\n",
              "0    1754\n",
              "2    1592\n",
              "3    1570\n",
              "1    1538\n",
              "4    1514\n",
              "6    1242\n",
              "Name: weekday, dtype: int64"
            ]
          },
          "metadata": {},
          "execution_count": 31
        }
      ]
    },
    {
      "cell_type": "code",
      "source": [
        "df['day_of_week'] = df['event_dttm_Deli'].dt.day_name()\n",
        "df['day_of_week'].value_counts()"
      ],
      "metadata": {
        "colab": {
          "base_uri": "https://localhost:8080/"
        },
        "id": "vamzFsXBeAky",
        "outputId": "5105ae2e-7d89-4399-8c59-24416be5065e"
      },
      "execution_count": 32,
      "outputs": [
        {
          "output_type": "execute_result",
          "data": {
            "text/plain": [
              "Saturday     1759\n",
              "Monday       1754\n",
              "Wednesday    1592\n",
              "Thursday     1570\n",
              "Tuesday      1538\n",
              "Friday       1514\n",
              "Sunday       1242\n",
              "Name: day_of_week, dtype: int64"
            ]
          },
          "metadata": {},
          "execution_count": 32
        }
      ]
    },
    {
      "cell_type": "code",
      "source": [
        "df.day_of_week.value_counts().plot(kind='barh');"
      ],
      "metadata": {
        "colab": {
          "base_uri": "https://localhost:8080/",
          "height": 265
        },
        "id": "XmMEZGgdeWB4",
        "outputId": "0a42730e-3e45-4d80-b6c5-ed717d1af328"
      },
      "execution_count": 35,
      "outputs": [
        {
          "output_type": "display_data",
          "data": {
            "text/plain": [
              "<Figure size 432x288 with 1 Axes>"
            ],
            "image/png": "[encoded data removed]"
          },
          "metadata": {
            "needs_background": "light"
          }
        }
      ]
    },
    {
      "cell_type": "markdown",
      "source": [
        "Monday and Saturday have more events than other days, Sunday being the least.  \n",
        "Since we don't have the target variable yet, we are unable to see the significance of this feature."
      ],
      "metadata": {
        "id": "qIpyCKvZfhzG"
      }
    },
    {
      "cell_type": "markdown",
      "source": [
        "### **event_type_nm**"
      ],
      "metadata": {
        "id": "wwiJUcG6f6-O"
      }
    },
    {
      "cell_type": "code",
      "source": [
        "# Number of unique event_type_nm\n",
        "df.event_type_nm.nunique()"
      ],
      "metadata": {
        "colab": {
          "base_uri": "https://localhost:8080/"
        },
        "id": "HQWlytbhfBNL",
        "outputId": "4b8d5ee1-7f97-42ba-bc02-842a863e6c7f"
      },
      "execution_count": 36,
      "outputs": [
        {
          "output_type": "execute_result",
          "data": {
            "text/plain": [
              "15"
            ]
          },
          "metadata": {},
          "execution_count": 36
        }
      ]
    },
    {
      "cell_type": "code",
      "source": [
        "df.event_type_nm.value_counts()"
      ],
      "metadata": {
        "colab": {
          "base_uri": "https://localhost:8080/"
        },
        "id": "-I7vOZ-VgFsZ",
        "outputId": "b6de065f-f920-4846-8ca9-b13eb05b48b0"
      },
      "execution_count": 37,
      "outputs": [
        {
          "output_type": "execute_result",
          "data": {
            "text/plain": [
              "PAYMENT                  6387\n",
              "SESSION_SIGNIN           2630\n",
              "CLIENT_DEFINED            373\n",
              "WITHDRAW                  336\n",
              "DEPOSIT                   332\n",
              "CHANGE_PASSWORD           269\n",
              "CHECK                     207\n",
              "CHANGE_ALERT_SETTINGS     149\n",
              "VIEW_STATEMENT            100\n",
              "REQUEST_CREDIT             70\n",
              "CARD_PIN_CHANGE            53\n",
              "REQUEST_NEW_CARD           24\n",
              "USER_DETAILS               19\n",
              "UPDATE_USER                19\n",
              "ADD_PAYEE                   1\n",
              "Name: event_type_nm, dtype: int64"
            ]
          },
          "metadata": {},
          "execution_count": 37
        }
      ]
    },
    {
      "cell_type": "code",
      "source": [
        "df.event_type_nm.value_counts().plot(kind='barh');"
      ],
      "metadata": {
        "colab": {
          "base_uri": "https://localhost:8080/",
          "height": 265
        },
        "id": "qD3UhlxngIwP",
        "outputId": "1dbe4895-cb4a-488a-b446-e4e728c26d8c"
      },
      "execution_count": 38,
      "outputs": [
        {
          "output_type": "display_data",
          "data": {
            "text/plain": [
              "<Figure size 432x288 with 1 Axes>"
            ],
            "image/png": "[encoded data removed]"
          },
          "metadata": {
            "needs_background": "light"
          }
        }
      ]
    },
    {
      "cell_type": "markdown",
      "source": [
        "Payment and Session Signin are the most occuring events. We want to focus on these two events we want to identify fraudulent payments; suspicious session_signin becomes the precursor for the fraud."
      ],
      "metadata": {
        "id": "vqt75M_wgrtC"
      }
    },
    {
      "cell_type": "code",
      "source": [],
      "metadata": {
        "id": "7eKcEmh8gTUW"
      },
      "execution_count": null,
      "outputs": []
    }
  ]
}