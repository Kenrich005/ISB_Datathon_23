{
  "nbformat": 4,
  "nbformat_minor": 0,
  "metadata": {
    "colab": {
      "provenance": [],
      "authorship_tag": "ABX9TyPeyAxCpw37ydTmur+oMh3e",
      "include_colab_link": true
    },
    "kernelspec": {
      "name": "python3",
      "display_name": "Python 3"
    },
    "language_info": {
      "name": "python"
    }
  },
  "cells": [
    {
      "cell_type": "markdown",
      "metadata": {
        "id": "view-in-github",
        "colab_type": "text"
      },
      "source": [
        "<a href=\"https://colab.research.google.com/github/Kenrich005/ISB_Datathon_23/blob/main/Datathon_ISB_2023_v2.ipynb\" target=\"_parent\"><img src=\"https://colab.research.google.com/assets/colab-badge.svg\" alt=\"Open In Colab\"/></a>"
      ]
    },
    {
      "cell_type": "markdown",
      "source": [
        "## Business Objective\n",
        "\n",
        "Develop a fraud analytics model that helps us (Kaspersky) detect fraud from good and normal user activity and identify precursors to the events"
      ],
      "metadata": {
        "id": "CKbgwaf3JmS9"
      }
    },
    {
      "cell_type": "markdown",
      "source": [
        "Process followed:\n",
        "\n",
        "\n",
        "1.   Understanding the Data (Exploratory Data Analysis)\n",
        "2. Data cleaning - eliminating features that are redundant\n",
        "3.   Feature engineering - creating new columns based on existing that would add depth to the outcome\n",
        "4. Clustering - basic clustering to determine which transactions are different than others\n",
        "5. Cluster Analysis - understanding why those clusters were formed, what makes them a cluster, cluster characteristics\n",
        "6. Data Engineering - transposing the data such that the fraud event becomes the target variable, and all other becomes features for the same\n",
        "\n"
      ],
      "metadata": {
        "id": "zMHcjq0gJK-b"
      }
    },
    {
      "cell_type": "code",
      "source": [
        "import pandas as pd\n",
        "import numpy as np\n",
        "import matplotlib.pyplot as plt\n",
        "import seaborn as sns"
      ],
      "metadata": {
        "id": "Da_u8CiwLhm-"
      },
      "execution_count": 1,
      "outputs": []
    },
    {
      "cell_type": "code",
      "source": [
        "df = pd.read_csv('https://raw.githubusercontent.com/Kenrich005/ISB_Datathon_23/main/Dataset_Datathon_Fraud_Detection_28122022.csv',\n",
        "                 encoding= 'unicode_escape')\n",
        "df.shape"
      ],
      "metadata": {
        "colab": {
          "base_uri": "https://localhost:8080/"
        },
        "id": "tkN-p1pOMeM9",
        "outputId": "12c1c8e0-7e6a-4a89-bdbf-f298b3b5dc14"
      },
      "execution_count": 2,
      "outputs": [
        {
          "output_type": "execute_result",
          "data": {
            "text/plain": [
              "(10969, 21)"
            ]
          },
          "metadata": {},
          "execution_count": 2
        }
      ]
    },
    {
      "cell_type": "code",
      "source": [
        "df.head()"
      ],
      "metadata": {
        "colab": {
          "base_uri": "https://localhost:8080/",
          "height": 490
        },
        "id": "xWRLO7sBMfzt",
        "outputId": "410c7918-7408-48db-d4d1-078e1b0c4ce0"
      },
      "execution_count": 3,
      "outputs": [
        {
          "output_type": "execute_result",
          "data": {
            "text/plain": [
              "     customer_id      event_dttm_Deli    event_type_nm  \\\n",
              "0  customer_id_0  2022-10-01 10:51:36  CHANGE_PASSWORD   \n",
              "1  customer_id_0  2022-10-01 11:15:21   SESSION_SIGNIN   \n",
              "2  customer_id_0  2022-10-01 11:31:55   SESSION_SIGNIN   \n",
              "3  customer_id_0  2022-10-01 11:45:42   SESSION_SIGNIN   \n",
              "4  customer_id_0  2022-10-03 10:28:24          DEPOSIT   \n",
              "\n",
              "  client_defined_event_type_nm               event_desc  \\\n",
              "0                        RENEW  Login password recovery   \n",
              "1               SESSION_SIGNIN                    Login   \n",
              "2               SESSION_SIGNIN                    Login   \n",
              "3               SESSION_SIGNIN                    Login   \n",
              "4                      100_BKO            Payment order   \n",
              "\n",
              "   operaton_amt_100 (rupees)  active phone call remote desktop protokol  \\\n",
              "0                        0.0                NaN                     NaN   \n",
              "1                        0.0                NaN                     NaN   \n",
              "2                        0.0                NaN                     NaN   \n",
              "3                        0.0                NaN                     NaN   \n",
              "4                   116820.0                1.0                   False   \n",
              "\n",
              "   emulator              f  ...   os device_model screensize  \\\n",
              "0       NaN  St Petersburg  ...  NaN          NaN        NaN   \n",
              "1       NaN  St Petersburg  ...  NaN          NaN        NaN   \n",
              "2       NaN  St Petersburg  ...  NaN          NaN        NaN   \n",
              "3       NaN  St Petersburg  ...  NaN          NaN        NaN   \n",
              "4       NaN            NaN  ...  iOS       iPhone    375x812   \n",
              "\n",
              "  agentconnectiontype  screen_hash  device for user reciever  \\\n",
              "0                 NaN  287067538.0              new      old   \n",
              "1                 NaN  287067538.0              new      old   \n",
              "2                 NaN -205759950.0              new      old   \n",
              "3                 NaN  287067538.0              new      old   \n",
              "4                wifi          NaN              NaN      old   \n",
              "\n",
              "            password change fast change of ip ip not equal to previous  \n",
              "0                       NaN               NaN              IP differes  \n",
              "1  happened on the same day               NaN              IP differes  \n",
              "2  happened on the same day               NaN              IP differes  \n",
              "3  happened on the same day               NaN              IP differes  \n",
              "4                       NaN               NaN                      NaN  \n",
              "\n",
              "[5 rows x 21 columns]"
            ],
            "text/html": [
              "\n",
              "  <div id=\"df-0583e236-2a43-4ffe-80c8-19de2be50a2e\">\n",
              "    <div class=\"colab-df-container\">\n",
              "      <div>\n",
              "<style scoped>\n",
              "    .dataframe tbody tr th:only-of-type {\n",
              "        vertical-align: middle;\n",
              "    }\n",
              "\n",
              "    .dataframe tbody tr th {\n",
              "        vertical-align: top;\n",
              "    }\n",
              "\n",
              "    .dataframe thead th {\n",
              "        text-align: right;\n",
              "    }\n",
              "</style>\n",
              "<table border=\"1\" class=\"dataframe\">\n",
              "  <thead>\n",
              "    <tr style=\"text-align: right;\">\n",
              "      <th></th>\n",
              "      <th>customer_id</th>\n",
              "      <th>event_dttm_Deli</th>\n",
              "      <th>event_type_nm</th>\n",
              "      <th>client_defined_event_type_nm</th>\n",
              "      <th>event_desc</th>\n",
              "      <th>operaton_amt_100 (rupees)</th>\n",
              "      <th>active phone call</th>\n",
              "      <th>remote desktop protokol</th>\n",
              "      <th>emulator</th>\n",
              "      <th>f</th>\n",
              "      <th>...</th>\n",
              "      <th>os</th>\n",
              "      <th>device_model</th>\n",
              "      <th>screensize</th>\n",
              "      <th>agentconnectiontype</th>\n",
              "      <th>screen_hash</th>\n",
              "      <th>device for user</th>\n",
              "      <th>reciever</th>\n",
              "      <th>password change</th>\n",
              "      <th>fast change of ip</th>\n",
              "      <th>ip not equal to previous</th>\n",
              "    </tr>\n",
              "  </thead>\n",
              "  <tbody>\n",
              "    <tr>\n",
              "      <th>0</th>\n",
              "      <td>customer_id_0</td>\n",
              "      <td>2022-10-01 10:51:36</td>\n",
              "      <td>CHANGE_PASSWORD</td>\n",
              "      <td>RENEW</td>\n",
              "      <td>Login password recovery</td>\n",
              "      <td>0.0</td>\n",
              "      <td>NaN</td>\n",
              "      <td>NaN</td>\n",
              "      <td>NaN</td>\n",
              "      <td>St Petersburg</td>\n",
              "      <td>...</td>\n",
              "      <td>NaN</td>\n",
              "      <td>NaN</td>\n",
              "      <td>NaN</td>\n",
              "      <td>NaN</td>\n",
              "      <td>287067538.0</td>\n",
              "      <td>new</td>\n",
              "      <td>old</td>\n",
              "      <td>NaN</td>\n",
              "      <td>NaN</td>\n",
              "      <td>IP differes</td>\n",
              "    </tr>\n",
              "    <tr>\n",
              "      <th>1</th>\n",
              "      <td>customer_id_0</td>\n",
              "      <td>2022-10-01 11:15:21</td>\n",
              "      <td>SESSION_SIGNIN</td>\n",
              "      <td>SESSION_SIGNIN</td>\n",
              "      <td>Login</td>\n",
              "      <td>0.0</td>\n",
              "      <td>NaN</td>\n",
              "      <td>NaN</td>\n",
              "      <td>NaN</td>\n",
              "      <td>St Petersburg</td>\n",
              "      <td>...</td>\n",
              "      <td>NaN</td>\n",
              "      <td>NaN</td>\n",
              "      <td>NaN</td>\n",
              "      <td>NaN</td>\n",
              "      <td>287067538.0</td>\n",
              "      <td>new</td>\n",
              "      <td>old</td>\n",
              "      <td>happened on the same day</td>\n",
              "      <td>NaN</td>\n",
              "      <td>IP differes</td>\n",
              "    </tr>\n",
              "    <tr>\n",
              "      <th>2</th>\n",
              "      <td>customer_id_0</td>\n",
              "      <td>2022-10-01 11:31:55</td>\n",
              "      <td>SESSION_SIGNIN</td>\n",
              "      <td>SESSION_SIGNIN</td>\n",
              "      <td>Login</td>\n",
              "      <td>0.0</td>\n",
              "      <td>NaN</td>\n",
              "      <td>NaN</td>\n",
              "      <td>NaN</td>\n",
              "      <td>St Petersburg</td>\n",
              "      <td>...</td>\n",
              "      <td>NaN</td>\n",
              "      <td>NaN</td>\n",
              "      <td>NaN</td>\n",
              "      <td>NaN</td>\n",
              "      <td>-205759950.0</td>\n",
              "      <td>new</td>\n",
              "      <td>old</td>\n",
              "      <td>happened on the same day</td>\n",
              "      <td>NaN</td>\n",
              "      <td>IP differes</td>\n",
              "    </tr>\n",
              "    <tr>\n",
              "      <th>3</th>\n",
              "      <td>customer_id_0</td>\n",
              "      <td>2022-10-01 11:45:42</td>\n",
              "      <td>SESSION_SIGNIN</td>\n",
              "      <td>SESSION_SIGNIN</td>\n",
              "      <td>Login</td>\n",
              "      <td>0.0</td>\n",
              "      <td>NaN</td>\n",
              "      <td>NaN</td>\n",
              "      <td>NaN</td>\n",
              "      <td>St Petersburg</td>\n",
              "      <td>...</td>\n",
              "      <td>NaN</td>\n",
              "      <td>NaN</td>\n",
              "      <td>NaN</td>\n",
              "      <td>NaN</td>\n",
              "      <td>287067538.0</td>\n",
              "      <td>new</td>\n",
              "      <td>old</td>\n",
              "      <td>happened on the same day</td>\n",
              "      <td>NaN</td>\n",
              "      <td>IP differes</td>\n",
              "    </tr>\n",
              "    <tr>\n",
              "      <th>4</th>\n",
              "      <td>customer_id_0</td>\n",
              "      <td>2022-10-03 10:28:24</td>\n",
              "      <td>DEPOSIT</td>\n",
              "      <td>100_BKO</td>\n",
              "      <td>Payment order</td>\n",
              "      <td>116820.0</td>\n",
              "      <td>1.0</td>\n",
              "      <td>False</td>\n",
              "      <td>NaN</td>\n",
              "      <td>NaN</td>\n",
              "      <td>...</td>\n",
              "      <td>iOS</td>\n",
              "      <td>iPhone</td>\n",
              "      <td>375x812</td>\n",
              "      <td>wifi</td>\n",
              "      <td>NaN</td>\n",
              "      <td>NaN</td>\n",
              "      <td>old</td>\n",
              "      <td>NaN</td>\n",
              "      <td>NaN</td>\n",
              "      <td>NaN</td>\n",
              "    </tr>\n",
              "  </tbody>\n",
              "</table>\n",
              "<p>5 rows × 21 columns</p>\n",
              "</div>\n",
              "      <button class=\"colab-df-convert\" onclick=\"convertToInteractive('df-0583e236-2a43-4ffe-80c8-19de2be50a2e')\"\n",
              "              title=\"Convert this dataframe to an interactive table.\"\n",
              "              style=\"display:none;\">\n",
              "        \n",
              "  <svg xmlns=\"http://www.w3.org/2000/svg\" height=\"24px\"viewBox=\"0 0 24 24\"\n",
              "       width=\"24px\">\n",
              "    <path d=\"M0 0h24v24H0V0z\" fill=\"none\"/>\n",
              "    <path d=\"M18.56 5.44l.94 2.06.94-2.06 2.06-.94-2.06-.94-.94-2.06-.94 2.06-2.06.94zm-11 1L8.5 8.5l.94-2.06 2.06-.94-2.06-.94L8.5 2.5l-.94 2.06-2.06.94zm10 10l.94 2.06.94-2.06 2.06-.94-2.06-.94-.94-2.06-.94 2.06-2.06.94z\"/><path d=\"M17.41 7.96l-1.37-1.37c-.4-.4-.92-.59-1.43-.59-.52 0-1.04.2-1.43.59L10.3 9.45l-7.72 7.72c-.78.78-.78 2.05 0 2.83L4 21.41c.39.39.9.59 1.41.59.51 0 1.02-.2 1.41-.59l7.78-7.78 2.81-2.81c.8-.78.8-2.07 0-2.86zM5.41 20L4 18.59l7.72-7.72 1.47 1.35L5.41 20z\"/>\n",
              "  </svg>\n",
              "      </button>\n",
              "      \n",
              "  <style>\n",
              "    .colab-df-container {\n",
              "      display:flex;\n",
              "      flex-wrap:wrap;\n",
              "      gap: 12px;\n",
              "    }\n",
              "\n",
              "    .colab-df-convert {\n",
              "      background-color: #E8F0FE;\n",
              "      border: none;\n",
              "      border-radius: 50%;\n",
              "      cursor: pointer;\n",
              "      display: none;\n",
              "      fill: #1967D2;\n",
              "      height: 32px;\n",
              "      padding: 0 0 0 0;\n",
              "      width: 32px;\n",
              "    }\n",
              "\n",
              "    .colab-df-convert:hover {\n",
              "      background-color: #E2EBFA;\n",
              "      box-shadow: 0px 1px 2px rgba(60, 64, 67, 0.3), 0px 1px 3px 1px rgba(60, 64, 67, 0.15);\n",
              "      fill: #174EA6;\n",
              "    }\n",
              "\n",
              "    [theme=dark] .colab-df-convert {\n",
              "      background-color: #3B4455;\n",
              "      fill: #D2E3FC;\n",
              "    }\n",
              "\n",
              "    [theme=dark] .colab-df-convert:hover {\n",
              "      background-color: #434B5C;\n",
              "      box-shadow: 0px 1px 3px 1px rgba(0, 0, 0, 0.15);\n",
              "      filter: drop-shadow(0px 1px 2px rgba(0, 0, 0, 0.3));\n",
              "      fill: #FFFFFF;\n",
              "    }\n",
              "  </style>\n",
              "\n",
              "      <script>\n",
              "        const buttonEl =\n",
              "          document.querySelector('#df-0583e236-2a43-4ffe-80c8-19de2be50a2e button.colab-df-convert');\n",
              "        buttonEl.style.display =\n",
              "          google.colab.kernel.accessAllowed ? 'block' : 'none';\n",
              "\n",
              "        async function convertToInteractive(key) {\n",
              "          const element = document.querySelector('#df-0583e236-2a43-4ffe-80c8-19de2be50a2e');\n",
              "          const dataTable =\n",
              "            await google.colab.kernel.invokeFunction('convertToInteractive',\n",
              "                                                     [key], {});\n",
              "          if (!dataTable) return;\n",
              "\n",
              "          const docLinkHtml = 'Like what you see? Visit the ' +\n",
              "            '<a target=\"_blank\" href=https://colab.research.google.com/notebooks/data_table.ipynb>data table notebook</a>'\n",
              "            + ' to learn more about interactive tables.';\n",
              "          element.innerHTML = '';\n",
              "          dataTable['output_type'] = 'display_data';\n",
              "          await google.colab.output.renderOutput(dataTable, element);\n",
              "          const docLink = document.createElement('div');\n",
              "          docLink.innerHTML = docLinkHtml;\n",
              "          element.appendChild(docLink);\n",
              "        }\n",
              "      </script>\n",
              "    </div>\n",
              "  </div>\n",
              "  "
            ]
          },
          "metadata": {},
          "execution_count": 3
        }
      ]
    },
    {
      "cell_type": "code",
      "source": [
        "df.info()"
      ],
      "metadata": {
        "colab": {
          "base_uri": "https://localhost:8080/"
        },
        "id": "932fuasDMiK6",
        "outputId": "ff58ca2e-7cba-464d-8f5a-6232a43ab83d"
      },
      "execution_count": 4,
      "outputs": [
        {
          "output_type": "stream",
          "name": "stdout",
          "text": [
            "<class 'pandas.core.frame.DataFrame'>\n",
            "RangeIndex: 10969 entries, 0 to 10968\n",
            "Data columns (total 21 columns):\n",
            " #   Column                        Non-Null Count  Dtype  \n",
            "---  ------                        --------------  -----  \n",
            " 0   customer_id                   10969 non-null  object \n",
            " 1   event_dttm_Deli               10969 non-null  object \n",
            " 2   event_type_nm                 10969 non-null  object \n",
            " 3   client_defined_event_type_nm  9554 non-null   object \n",
            " 4   event_desc                    10800 non-null  object \n",
            " 5   operaton_amt_100 (rupees)     10969 non-null  float64\n",
            " 6   active phone call             3778 non-null   float64\n",
            " 7   remote desktop protokol       3786 non-null   object \n",
            " 8   emulator                      2923 non-null   float64\n",
            " 9   f                             4666 non-null   object \n",
            " 10  device_id                     3786 non-null   object \n",
            " 11  os                            3786 non-null   object \n",
            " 12  device_model                  3786 non-null   object \n",
            " 13  screensize                    3786 non-null   object \n",
            " 14  agentconnectiontype           863 non-null    object \n",
            " 15  screen_hash                   1167 non-null   float64\n",
            " 16  device for user               4727 non-null   object \n",
            " 17  reciever                      10969 non-null  object \n",
            " 18  password change               1707 non-null   object \n",
            " 19  fast change of ip             128 non-null    object \n",
            " 20  ip not equal to previous      3796 non-null   object \n",
            "dtypes: float64(4), object(17)\n",
            "memory usage: 1.8+ MB\n"
          ]
        }
      ]
    },
    {
      "cell_type": "markdown",
      "source": [
        "## Understanding the data\n",
        "We are given with user activity history. \n",
        "Each activity is defined by 20 features. \n",
        "We see that considerable amount of data is null. \n",
        "Most importantly, we notice that we do not have a target variable. \n",
        "i.e. we do not know which activity is fraud.  \n",
        "\n",
        "So, our foremost task then becomes to identify which transaction should be considered fraud, and have a strong backing to support it.  \n",
        "Because, if our understanding of fraud transaction is incorrect, the model built therefore would also be incorrect.   \n",
        "  \n",
        "Let us understand each parameter one at a time"
      ],
      "metadata": {
        "id": "oJoiTOHzMtLb"
      }
    },
    {
      "cell_type": "markdown",
      "source": [
        "### **customer_id**"
      ],
      "metadata": {
        "id": "yerB6vh7OTXx"
      }
    },
    {
      "cell_type": "code",
      "source": [
        "# Number of unique customer_id\n",
        "df.customer_id.nunique()"
      ],
      "metadata": {
        "colab": {
          "base_uri": "https://localhost:8080/"
        },
        "id": "vnxCSjkKMlil",
        "outputId": "3718a535-9c85-4663-b163-239869061faf"
      },
      "execution_count": 5,
      "outputs": [
        {
          "output_type": "execute_result",
          "data": {
            "text/plain": [
              "200"
            ]
          },
          "metadata": {},
          "execution_count": 5
        }
      ]
    },
    {
      "cell_type": "code",
      "source": [
        "# Number of transaction done by each customer\n",
        "df.customer_id.value_counts()"
      ],
      "metadata": {
        "colab": {
          "base_uri": "https://localhost:8080/"
        },
        "id": "E967pqg7OfKy",
        "outputId": "41f6fb02-ed2a-4f6a-b4a2-c4f8217e2f45"
      },
      "execution_count": 6,
      "outputs": [
        {
          "output_type": "execute_result",
          "data": {
            "text/plain": [
              "customer_id_113    1430\n",
              "customer_id_168    1002\n",
              "customer_id_178     694\n",
              "customer_id_196     219\n",
              "customer_id_129     218\n",
              "                   ... \n",
              "customer_id_156       4\n",
              "customer_id_119       4\n",
              "customer_id_137       4\n",
              "customer_id_24        3\n",
              "customer_id_169       3\n",
              "Name: customer_id, Length: 200, dtype: int64"
            ]
          },
          "metadata": {},
          "execution_count": 6
        }
      ]
    },
    {
      "cell_type": "code",
      "source": [
        "# Too huge disparity!!!\n",
        "# Why some customers have just 3 transactions, while some have over 1000"
      ],
      "metadata": {
        "id": "2NcR61LnOpOJ"
      },
      "execution_count": 7,
      "outputs": []
    },
    {
      "cell_type": "code",
      "source": [
        "plt.figure(figsize=(18,4))\n",
        "df.customer_id.value_counts().plot(kind='bar');"
      ],
      "metadata": {
        "colab": {
          "base_uri": "https://localhost:8080/",
          "height": 341
        },
        "id": "qZPpd1ddWnsk",
        "outputId": "4d626fbc-b97e-4274-93ec-a58b36113fb6"
      },
      "execution_count": 8,
      "outputs": [
        {
          "output_type": "display_data",
          "data": {
            "text/plain": [
              "<Figure size 1296x288 with 1 Axes>"
            ],
            "image/png": "[encoded data removed]"
          },
          "metadata": {
            "needs_background": "light"
          }
        }
      ]
    },
    {
      "cell_type": "code",
      "source": [
        "plt.figure(figsize=(18,4))\n",
        "sns.boxplot(x=df.customer_id.value_counts())\n",
        "plt.xticks(np.arange(0,1500,50));"
      ],
      "metadata": {
        "colab": {
          "base_uri": "https://localhost:8080/",
          "height": 280
        },
        "id": "iGkJzbOXZWOK",
        "outputId": "b1ab5bef-4b00-4824-fd20-093b9ec61ca9"
      },
      "execution_count": 9,
      "outputs": [
        {
          "output_type": "display_data",
          "data": {
            "text/plain": [
              "<Figure size 1296x288 with 1 Axes>"
            ],
            "image/png": "[encoded data removed]"
          },
          "metadata": {
            "needs_background": "light"
          }
        }
      ]
    },
    {
      "cell_type": "markdown",
      "source": [
        "Upon further examination, we see that only 3 customers have more than 600 events. About 75% customers have just 50 events.  \n",
        "We sample one of the customers with low events to see if there is any story there."
      ],
      "metadata": {
        "id": "RsBskuAlZkcC"
      }
    },
    {
      "cell_type": "code",
      "source": [
        "df[df.customer_id==\"customer_id_119\"]"
      ],
      "metadata": {
        "colab": {
          "base_uri": "https://localhost:8080/",
          "height": 372
        },
        "id": "HqwUz5bHO9l2",
        "outputId": "98298628-911c-4c84-be50-a837fd2cfaff"
      },
      "execution_count": 10,
      "outputs": [
        {
          "output_type": "execute_result",
          "data": {
            "text/plain": [
              "          customer_id      event_dttm_Deli   event_type_nm  \\\n",
              "5992  customer_id_119  2022-10-18 19:26:21  SESSION_SIGNIN   \n",
              "5993  customer_id_119  2022-10-19 12:53:32         PAYMENT   \n",
              "5994  customer_id_119  2022-10-19 15:29:13         PAYMENT   \n",
              "5995  customer_id_119  2022-10-20 16:18:08         PAYMENT   \n",
              "\n",
              "     client_defined_event_type_nm event_desc  operaton_amt_100 (rupees)  \\\n",
              "5992                          NaN      Login                       0.00   \n",
              "5993                 POS_PURCHASE   Purchase                     177.00   \n",
              "5994                 POS_PURCHASE   Purchase                     200.60   \n",
              "5995                 POS_PURCHASE   Purchase                     376.42   \n",
              "\n",
              "      active phone call remote desktop protokol  emulator      f  ...  \\\n",
              "5992                0.0                   False       0.0  Surat  ...   \n",
              "5993                NaN                     NaN       NaN    NaN  ...   \n",
              "5994                NaN                     NaN       NaN    NaN  ...   \n",
              "5995                NaN                     NaN       NaN    NaN  ...   \n",
              "\n",
              "           os       device_model screensize agentconnectiontype screen_hash  \\\n",
              "5992  Android  Xiaomi M2003J15SC  1080x2110                 NaN         NaN   \n",
              "5993      NaN                NaN        NaN                 NaN         NaN   \n",
              "5994      NaN                NaN        NaN                 NaN         NaN   \n",
              "5995      NaN                NaN        NaN                 NaN         NaN   \n",
              "\n",
              "      device for user reciever password change fast change of ip  \\\n",
              "5992              old      old             NaN               NaN   \n",
              "5993              NaN      old             NaN               NaN   \n",
              "5994              NaN      old             NaN               NaN   \n",
              "5995              NaN      old             NaN               NaN   \n",
              "\n",
              "     ip not equal to previous  \n",
              "5992              IP differes  \n",
              "5993                      NaN  \n",
              "5994                      NaN  \n",
              "5995                      NaN  \n",
              "\n",
              "[4 rows x 21 columns]"
            ],
            "text/html": [
              "\n",
              "  <div id=\"df-4646a901-c163-45aa-ab56-660387857f28\">\n",
              "    <div class=\"colab-df-container\">\n",
              "      <div>\n",
              "<style scoped>\n",
              "    .dataframe tbody tr th:only-of-type {\n",
              "        vertical-align: middle;\n",
              "    }\n",
              "\n",
              "    .dataframe tbody tr th {\n",
              "        vertical-align: top;\n",
              "    }\n",
              "\n",
              "    .dataframe thead th {\n",
              "        text-align: right;\n",
              "    }\n",
              "</style>\n",
              "<table border=\"1\" class=\"dataframe\">\n",
              "  <thead>\n",
              "    <tr style=\"text-align: right;\">\n",
              "      <th></th>\n",
              "      <th>customer_id</th>\n",
              "      <th>event_dttm_Deli</th>\n",
              "      <th>event_type_nm</th>\n",
              "      <th>client_defined_event_type_nm</th>\n",
              "      <th>event_desc</th>\n",
              "      <th>operaton_amt_100 (rupees)</th>\n",
              "      <th>active phone call</th>\n",
              "      <th>remote desktop protokol</th>\n",
              "      <th>emulator</th>\n",
              "      <th>f</th>\n",
              "      <th>...</th>\n",
              "      <th>os</th>\n",
              "      <th>device_model</th>\n",
              "      <th>screensize</th>\n",
              "      <th>agentconnectiontype</th>\n",
              "      <th>screen_hash</th>\n",
              "      <th>device for user</th>\n",
              "      <th>reciever</th>\n",
              "      <th>password change</th>\n",
              "      <th>fast change of ip</th>\n",
              "      <th>ip not equal to previous</th>\n",
              "    </tr>\n",
              "  </thead>\n",
              "  <tbody>\n",
              "    <tr>\n",
              "      <th>5992</th>\n",
              "      <td>customer_id_119</td>\n",
              "      <td>2022-10-18 19:26:21</td>\n",
              "      <td>SESSION_SIGNIN</td>\n",
              "      <td>NaN</td>\n",
              "      <td>Login</td>\n",
              "      <td>0.00</td>\n",
              "      <td>0.0</td>\n",
              "      <td>False</td>\n",
              "      <td>0.0</td>\n",
              "      <td>Surat</td>\n",
              "      <td>...</td>\n",
              "      <td>Android</td>\n",
              "      <td>Xiaomi M2003J15SC</td>\n",
              "      <td>1080x2110</td>\n",
              "      <td>NaN</td>\n",
              "      <td>NaN</td>\n",
              "      <td>old</td>\n",
              "      <td>old</td>\n",
              "      <td>NaN</td>\n",
              "      <td>NaN</td>\n",
              "      <td>IP differes</td>\n",
              "    </tr>\n",
              "    <tr>\n",
              "      <th>5993</th>\n",
              "      <td>customer_id_119</td>\n",
              "      <td>2022-10-19 12:53:32</td>\n",
              "      <td>PAYMENT</td>\n",
              "      <td>POS_PURCHASE</td>\n",
              "      <td>Purchase</td>\n",
              "      <td>177.00</td>\n",
              "      <td>NaN</td>\n",
              "      <td>NaN</td>\n",
              "      <td>NaN</td>\n",
              "      <td>NaN</td>\n",
              "      <td>...</td>\n",
              "      <td>NaN</td>\n",
              "      <td>NaN</td>\n",
              "      <td>NaN</td>\n",
              "      <td>NaN</td>\n",
              "      <td>NaN</td>\n",
              "      <td>NaN</td>\n",
              "      <td>old</td>\n",
              "      <td>NaN</td>\n",
              "      <td>NaN</td>\n",
              "      <td>NaN</td>\n",
              "    </tr>\n",
              "    <tr>\n",
              "      <th>5994</th>\n",
              "      <td>customer_id_119</td>\n",
              "      <td>2022-10-19 15:29:13</td>\n",
              "      <td>PAYMENT</td>\n",
              "      <td>POS_PURCHASE</td>\n",
              "      <td>Purchase</td>\n",
              "      <td>200.60</td>\n",
              "      <td>NaN</td>\n",
              "      <td>NaN</td>\n",
              "      <td>NaN</td>\n",
              "      <td>NaN</td>\n",
              "      <td>...</td>\n",
              "      <td>NaN</td>\n",
              "      <td>NaN</td>\n",
              "      <td>NaN</td>\n",
              "      <td>NaN</td>\n",
              "      <td>NaN</td>\n",
              "      <td>NaN</td>\n",
              "      <td>old</td>\n",
              "      <td>NaN</td>\n",
              "      <td>NaN</td>\n",
              "      <td>NaN</td>\n",
              "    </tr>\n",
              "    <tr>\n",
              "      <th>5995</th>\n",
              "      <td>customer_id_119</td>\n",
              "      <td>2022-10-20 16:18:08</td>\n",
              "      <td>PAYMENT</td>\n",
              "      <td>POS_PURCHASE</td>\n",
              "      <td>Purchase</td>\n",
              "      <td>376.42</td>\n",
              "      <td>NaN</td>\n",
              "      <td>NaN</td>\n",
              "      <td>NaN</td>\n",
              "      <td>NaN</td>\n",
              "      <td>...</td>\n",
              "      <td>NaN</td>\n",
              "      <td>NaN</td>\n",
              "      <td>NaN</td>\n",
              "      <td>NaN</td>\n",
              "      <td>NaN</td>\n",
              "      <td>NaN</td>\n",
              "      <td>old</td>\n",
              "      <td>NaN</td>\n",
              "      <td>NaN</td>\n",
              "      <td>NaN</td>\n",
              "    </tr>\n",
              "  </tbody>\n",
              "</table>\n",
              "<p>4 rows × 21 columns</p>\n",
              "</div>\n",
              "      <button class=\"colab-df-convert\" onclick=\"convertToInteractive('df-4646a901-c163-45aa-ab56-660387857f28')\"\n",
              "              title=\"Convert this dataframe to an interactive table.\"\n",
              "              style=\"display:none;\">\n",
              "        \n",
              "  <svg xmlns=\"http://www.w3.org/2000/svg\" height=\"24px\"viewBox=\"0 0 24 24\"\n",
              "       width=\"24px\">\n",
              "    <path d=\"M0 0h24v24H0V0z\" fill=\"none\"/>\n",
              "    <path d=\"M18.56 5.44l.94 2.06.94-2.06 2.06-.94-2.06-.94-.94-2.06-.94 2.06-2.06.94zm-11 1L8.5 8.5l.94-2.06 2.06-.94-2.06-.94L8.5 2.5l-.94 2.06-2.06.94zm10 10l.94 2.06.94-2.06 2.06-.94-2.06-.94-.94-2.06-.94 2.06-2.06.94z\"/><path d=\"M17.41 7.96l-1.37-1.37c-.4-.4-.92-.59-1.43-.59-.52 0-1.04.2-1.43.59L10.3 9.45l-7.72 7.72c-.78.78-.78 2.05 0 2.83L4 21.41c.39.39.9.59 1.41.59.51 0 1.02-.2 1.41-.59l7.78-7.78 2.81-2.81c.8-.78.8-2.07 0-2.86zM5.41 20L4 18.59l7.72-7.72 1.47 1.35L5.41 20z\"/>\n",
              "  </svg>\n",
              "      </button>\n",
              "      \n",
              "  <style>\n",
              "    .colab-df-container {\n",
              "      display:flex;\n",
              "      flex-wrap:wrap;\n",
              "      gap: 12px;\n",
              "    }\n",
              "\n",
              "    .colab-df-convert {\n",
              "      background-color: #E8F0FE;\n",
              "      border: none;\n",
              "      border-radius: 50%;\n",
              "      cursor: pointer;\n",
              "      display: none;\n",
              "      fill: #1967D2;\n",
              "      height: 32px;\n",
              "      padding: 0 0 0 0;\n",
              "      width: 32px;\n",
              "    }\n",
              "\n",
              "    .colab-df-convert:hover {\n",
              "      background-color: #E2EBFA;\n",
              "      box-shadow: 0px 1px 2px rgba(60, 64, 67, 0.3), 0px 1px 3px 1px rgba(60, 64, 67, 0.15);\n",
              "      fill: #174EA6;\n",
              "    }\n",
              "\n",
              "    [theme=dark] .colab-df-convert {\n",
              "      background-color: #3B4455;\n",
              "      fill: #D2E3FC;\n",
              "    }\n",
              "\n",
              "    [theme=dark] .colab-df-convert:hover {\n",
              "      background-color: #434B5C;\n",
              "      box-shadow: 0px 1px 3px 1px rgba(0, 0, 0, 0.15);\n",
              "      filter: drop-shadow(0px 1px 2px rgba(0, 0, 0, 0.3));\n",
              "      fill: #FFFFFF;\n",
              "    }\n",
              "  </style>\n",
              "\n",
              "      <script>\n",
              "        const buttonEl =\n",
              "          document.querySelector('#df-4646a901-c163-45aa-ab56-660387857f28 button.colab-df-convert');\n",
              "        buttonEl.style.display =\n",
              "          google.colab.kernel.accessAllowed ? 'block' : 'none';\n",
              "\n",
              "        async function convertToInteractive(key) {\n",
              "          const element = document.querySelector('#df-4646a901-c163-45aa-ab56-660387857f28');\n",
              "          const dataTable =\n",
              "            await google.colab.kernel.invokeFunction('convertToInteractive',\n",
              "                                                     [key], {});\n",
              "          if (!dataTable) return;\n",
              "\n",
              "          const docLinkHtml = 'Like what you see? Visit the ' +\n",
              "            '<a target=\"_blank\" href=https://colab.research.google.com/notebooks/data_table.ipynb>data table notebook</a>'\n",
              "            + ' to learn more about interactive tables.';\n",
              "          element.innerHTML = '';\n",
              "          dataTable['output_type'] = 'display_data';\n",
              "          await google.colab.output.renderOutput(dataTable, element);\n",
              "          const docLink = document.createElement('div');\n",
              "          docLink.innerHTML = docLinkHtml;\n",
              "          element.appendChild(docLink);\n",
              "        }\n",
              "      </script>\n",
              "    </div>\n",
              "  </div>\n",
              "  "
            ]
          },
          "metadata": {},
          "execution_count": 10
        }
      ]
    },
    {
      "cell_type": "markdown",
      "source": [
        "### **event_dttm_Deli**"
      ],
      "metadata": {
        "id": "W5ZN9iHebe6l"
      }
    },
    {
      "cell_type": "code",
      "source": [
        "# Number of unique event_dttm_Deli\n",
        "df.event_dttm_Deli.nunique()"
      ],
      "metadata": {
        "id": "pgZ8god-PBtX",
        "colab": {
          "base_uri": "https://localhost:8080/"
        },
        "outputId": "779129f3-49dc-4fff-90e7-3806b6bd9dc3"
      },
      "execution_count": 11,
      "outputs": [
        {
          "output_type": "execute_result",
          "data": {
            "text/plain": [
              "10837"
            ]
          },
          "metadata": {},
          "execution_count": 11
        }
      ]
    },
    {
      "cell_type": "code",
      "source": [
        "# Converting to datetime format\n",
        "df.event_dttm_Deli = pd.to_datetime(df.event_dttm_Deli)\n",
        "\n",
        "# Start Datetime\n",
        "min(df.event_dttm_Deli)"
      ],
      "metadata": {
        "colab": {
          "base_uri": "https://localhost:8080/"
        },
        "id": "RzL7q17gbniw",
        "outputId": "d215fcbb-57a2-4c37-f8bf-a3c1231c98d0"
      },
      "execution_count": 12,
      "outputs": [
        {
          "output_type": "execute_result",
          "data": {
            "text/plain": [
              "Timestamp('2022-09-22 17:43:37')"
            ]
          },
          "metadata": {},
          "execution_count": 12
        }
      ]
    },
    {
      "cell_type": "code",
      "source": [
        "# End Datetime\n",
        "max(df.event_dttm_Deli)"
      ],
      "metadata": {
        "colab": {
          "base_uri": "https://localhost:8080/"
        },
        "id": "SRuBE7XWbx7b",
        "outputId": "115417b8-e8f4-443c-8db8-ab7219ffee75"
      },
      "execution_count": 13,
      "outputs": [
        {
          "output_type": "execute_result",
          "data": {
            "text/plain": [
              "Timestamp('2022-11-23 19:53:06')"
            ]
          },
          "metadata": {},
          "execution_count": 13
        }
      ]
    },
    {
      "cell_type": "code",
      "source": [
        "# Datetime Range\n",
        "max(df.event_dttm_Deli) - min(df.event_dttm_Deli)"
      ],
      "metadata": {
        "colab": {
          "base_uri": "https://localhost:8080/"
        },
        "id": "ivR2S-itb2XD",
        "outputId": "280cbe7c-8d1d-4059-8a35-e944224e343f"
      },
      "execution_count": 14,
      "outputs": [
        {
          "output_type": "execute_result",
          "data": {
            "text/plain": [
              "Timedelta('62 days 02:09:29')"
            ]
          },
          "metadata": {},
          "execution_count": 14
        }
      ]
    },
    {
      "cell_type": "code",
      "source": [
        "df['day_of_week'] = df['event_dttm_Deli'].dt.day_name()\n",
        "df['day_of_week'].value_counts()"
      ],
      "metadata": {
        "colab": {
          "base_uri": "https://localhost:8080/"
        },
        "id": "vamzFsXBeAky",
        "outputId": "169244ce-7cb9-4bfe-d19d-56900b90c1ef"
      },
      "execution_count": 15,
      "outputs": [
        {
          "output_type": "execute_result",
          "data": {
            "text/plain": [
              "Saturday     1759\n",
              "Monday       1754\n",
              "Wednesday    1592\n",
              "Thursday     1570\n",
              "Tuesday      1538\n",
              "Friday       1514\n",
              "Sunday       1242\n",
              "Name: day_of_week, dtype: int64"
            ]
          },
          "metadata": {},
          "execution_count": 15
        }
      ]
    },
    {
      "cell_type": "code",
      "source": [
        "df.day_of_week.value_counts().plot(kind='barh');"
      ],
      "metadata": {
        "colab": {
          "base_uri": "https://localhost:8080/",
          "height": 265
        },
        "id": "XmMEZGgdeWB4",
        "outputId": "0871e28f-d9a7-4b0a-e3b4-e1f1d806da26"
      },
      "execution_count": 16,
      "outputs": [
        {
          "output_type": "display_data",
          "data": {
            "text/plain": [
              "<Figure size 432x288 with 1 Axes>"
            ],
            "image/png": "[encoded data removed]"
          },
          "metadata": {
            "needs_background": "light"
          }
        }
      ]
    },
    {
      "cell_type": "markdown",
      "source": [
        "Monday and Saturday have more events than other days, Sunday being the least.  \n",
        "Since we don't have the target variable yet, we are unable to see the significance of this feature."
      ],
      "metadata": {
        "id": "qIpyCKvZfhzG"
      }
    },
    {
      "cell_type": "markdown",
      "source": [
        "### **event_type_nm**"
      ],
      "metadata": {
        "id": "wwiJUcG6f6-O"
      }
    },
    {
      "cell_type": "code",
      "source": [
        "# Number of unique event_type_nm\n",
        "df.event_type_nm.nunique()"
      ],
      "metadata": {
        "colab": {
          "base_uri": "https://localhost:8080/"
        },
        "id": "HQWlytbhfBNL",
        "outputId": "77b971c8-5e2b-4561-d757-f00aadd80f03"
      },
      "execution_count": 17,
      "outputs": [
        {
          "output_type": "execute_result",
          "data": {
            "text/plain": [
              "15"
            ]
          },
          "metadata": {},
          "execution_count": 17
        }
      ]
    },
    {
      "cell_type": "code",
      "source": [
        "df.event_type_nm.value_counts()"
      ],
      "metadata": {
        "colab": {
          "base_uri": "https://localhost:8080/"
        },
        "id": "-I7vOZ-VgFsZ",
        "outputId": "2d60bacf-283e-4b7a-ef67-4a6d2c8af3f4"
      },
      "execution_count": 18,
      "outputs": [
        {
          "output_type": "execute_result",
          "data": {
            "text/plain": [
              "PAYMENT                  6387\n",
              "SESSION_SIGNIN           2630\n",
              "CLIENT_DEFINED            373\n",
              "WITHDRAW                  336\n",
              "DEPOSIT                   332\n",
              "CHANGE_PASSWORD           269\n",
              "CHECK                     207\n",
              "CHANGE_ALERT_SETTINGS     149\n",
              "VIEW_STATEMENT            100\n",
              "REQUEST_CREDIT             70\n",
              "CARD_PIN_CHANGE            53\n",
              "REQUEST_NEW_CARD           24\n",
              "USER_DETAILS               19\n",
              "UPDATE_USER                19\n",
              "ADD_PAYEE                   1\n",
              "Name: event_type_nm, dtype: int64"
            ]
          },
          "metadata": {},
          "execution_count": 18
        }
      ]
    },
    {
      "cell_type": "code",
      "source": [
        "df.event_type_nm.value_counts().plot(kind='barh');"
      ],
      "metadata": {
        "colab": {
          "base_uri": "https://localhost:8080/",
          "height": 265
        },
        "id": "qD3UhlxngIwP",
        "outputId": "2a55dd51-f963-41b9-ddcb-694539498078"
      },
      "execution_count": 19,
      "outputs": [
        {
          "output_type": "display_data",
          "data": {
            "text/plain": [
              "<Figure size 432x288 with 1 Axes>"
            ],
            "image/png": "[encoded data removed]"
          },
          "metadata": {
            "needs_background": "light"
          }
        }
      ]
    },
    {
      "cell_type": "markdown",
      "source": [
        "Payment and Session Signin are the most occuring events. We want to focus on these two events we want to identify fraudulent payments; suspicious session_signin becomes the precursor for the fraud."
      ],
      "metadata": {
        "id": "vqt75M_wgrtC"
      }
    },
    {
      "cell_type": "markdown",
      "source": [
        "### **client_defined_event_type_nm**"
      ],
      "metadata": {
        "id": "4nlM-JC9sy53"
      }
    },
    {
      "cell_type": "code",
      "source": [
        "# Number of unique client_defined_event_type_nm\n",
        "df.client_defined_event_type_nm.nunique()"
      ],
      "metadata": {
        "id": "7eKcEmh8gTUW",
        "colab": {
          "base_uri": "https://localhost:8080/"
        },
        "outputId": "a3868788-e139-4c81-90a0-4f284e46a3e0"
      },
      "execution_count": 20,
      "outputs": [
        {
          "output_type": "execute_result",
          "data": {
            "text/plain": [
              "100"
            ]
          },
          "metadata": {},
          "execution_count": 20
        }
      ]
    },
    {
      "cell_type": "code",
      "source": [
        "df.client_defined_event_type_nm.value_counts()"
      ],
      "metadata": {
        "colab": {
          "base_uri": "https://localhost:8080/"
        },
        "id": "ujIinmEfs9pZ",
        "outputId": "ea5bca44-fbd0-4b49-f952-a71527c692df"
      },
      "execution_count": 21,
      "outputs": [
        {
          "output_type": "execute_result",
          "data": {
            "text/plain": [
              "POS_PURCHASE                   3807\n",
              "MOB_APP_SESSION_SIGNIN         1088\n",
              "POS_P2P_DEBIT                   535\n",
              "POS_PRE_PURCHASE                305\n",
              "C2C_REQUEST                     271\n",
              "                               ... \n",
              "Construction                      1\n",
              "CASH                              1\n",
              "POS                               1\n",
              "ACCEPT_AUTOPAYMENT_M2M            1\n",
              "VIRTUAL_CREDIT_CARD_MOB_APP       1\n",
              "Name: client_defined_event_type_nm, Length: 100, dtype: int64"
            ]
          },
          "metadata": {},
          "execution_count": 21
        }
      ]
    },
    {
      "cell_type": "code",
      "source": [
        "df.client_defined_event_type_nm.value_counts().nlargest(15).plot(kind='barh');"
      ],
      "metadata": {
        "colab": {
          "base_uri": "https://localhost:8080/",
          "height": 265
        },
        "id": "bcBnAdGJtDot",
        "outputId": "d4a6aa43-6ef7-43d5-efd1-081698843b7d"
      },
      "execution_count": 22,
      "outputs": [
        {
          "output_type": "display_data",
          "data": {
            "text/plain": [
              "<Figure size 432x288 with 1 Axes>"
            ],
            "image/png": "[encoded data removed]"
          },
          "metadata": {
            "needs_background": "light"
          }
        }
      ]
    },
    {
      "cell_type": "markdown",
      "source": [
        "\"Point of Sale PURCHASE\" has the highest transactions (3807).  \n",
        "Can fraud happen at Point of Sale?  \n",
        "Someone could steal and use your card at the POS. And several cards do not require pin for transactions, making it easier for fraud."
      ],
      "metadata": {
        "id": "c6KcC2zKteOw"
      }
    },
    {
      "cell_type": "markdown",
      "source": [
        "### event_desc"
      ],
      "metadata": {
        "id": "JTLlMFjuuwMG"
      }
    },
    {
      "cell_type": "code",
      "source": [
        "# Number of unique event_desc\n",
        "df.event_desc.nunique()"
      ],
      "metadata": {
        "colab": {
          "base_uri": "https://localhost:8080/"
        },
        "id": "qf4zr2rmtJOg",
        "outputId": "1473b560-c258-4ecb-cc15-a8c5d6403b9e"
      },
      "execution_count": 23,
      "outputs": [
        {
          "output_type": "execute_result",
          "data": {
            "text/plain": [
              "76"
            ]
          },
          "metadata": {},
          "execution_count": 23
        }
      ]
    },
    {
      "cell_type": "code",
      "source": [
        "df.event_desc.value_counts()"
      ],
      "metadata": {
        "colab": {
          "base_uri": "https://localhost:8080/"
        },
        "id": "zsYXKd09u1pS",
        "outputId": "c85994de-990a-4bd9-dc71-f06b3e7bc484"
      },
      "execution_count": 24,
      "outputs": [
        {
          "output_type": "execute_result",
          "data": {
            "text/plain": [
              "Purchase                                                             3807\n",
              "Login                                                                2630\n",
              "Debit part of P2P transfer via POS                                    535\n",
              "Initial C2C request outgoing (C01 Message 477)                        419\n",
              "Secondary request C2C outgoing (C02 Message 291)                      364\n",
              "                                                                     ... \n",
              "Replenishment of a brokerage account                                    1\n",
              "Creating a new template. Transfers within the bank to individuals       1\n",
              "Secondary request C2C outgoing Me2Me                                    1\n",
              "Primary request C2C outgoing Me2Me                                      1\n",
              "Cash withdrawal from Profile plastic card - rupees                      1\n",
              "Name: event_desc, Length: 76, dtype: int64"
            ]
          },
          "metadata": {},
          "execution_count": 24
        }
      ]
    },
    {
      "cell_type": "code",
      "source": [
        "df.event_desc.value_counts().nlargest(15).plot(kind='barh');"
      ],
      "metadata": {
        "colab": {
          "base_uri": "https://localhost:8080/",
          "height": 265
        },
        "id": "9IV4ulrJu4w9",
        "outputId": "d08af479-413a-4ec4-b695-aecf2e0b9f8f"
      },
      "execution_count": 25,
      "outputs": [
        {
          "output_type": "display_data",
          "data": {
            "text/plain": [
              "<Figure size 432x288 with 1 Axes>"
            ],
            "image/png": "[encoded data removed]"
          },
          "metadata": {
            "needs_background": "light"
          }
        }
      ]
    },
    {
      "cell_type": "markdown",
      "source": [
        "Naturally, fraud happens to make monetary transaction, a.k.a purchases. Rarely does one commit fraud to get personal details. We want to see what purchases can be considered as fraud. Purchase by itself isn't a fraud. But if someone consistently spends frugally, and then suddenly spends a whopping amount, it may be flagged suspicious.  \n",
        "We do not have what the person was purchasing. That would have added another dimension to the analysis, but for now, the purchase amount is the clue."
      ],
      "metadata": {
        "id": "vL1ofygRvAUG"
      }
    },
    {
      "cell_type": "markdown",
      "source": [
        "### operaton_amt_100 (rupees)"
      ],
      "metadata": {
        "id": "cPSbYbA6v3-U"
      }
    },
    {
      "cell_type": "code",
      "source": [
        "# Continuous variable - boxplot, histplot\n",
        "\n",
        "plt.figure(figsize=(18,4))\n",
        "sns.boxplot(x=df['operaton_amt_100 (rupees)']);\n",
        "# plt.xticks(np.arange(0,1500,50));"
      ],
      "metadata": {
        "colab": {
          "base_uri": "https://localhost:8080/",
          "height": 280
        },
        "id": "y9hJjlflu7Hc",
        "outputId": "ddc82196-2168-48eb-9982-17f5469465fe"
      },
      "execution_count": 26,
      "outputs": [
        {
          "output_type": "display_data",
          "data": {
            "text/plain": [
              "<Figure size 1296x288 with 1 Axes>"
            ],
            "image/png": "[encoded data removed]"
          },
          "metadata": {
            "needs_background": "light"
          }
        }
      ]
    },
    {
      "cell_type": "code",
      "source": [
        "plt.figure(figsize=(18,4))\n",
        "plt.hist(df['operaton_amt_100 (rupees)']);"
      ],
      "metadata": {
        "colab": {
          "base_uri": "https://localhost:8080/",
          "height": 278
        },
        "id": "xanjResQwTu7",
        "outputId": "2e690c4d-7011-46e0-c4cb-b22ef86a28a8"
      },
      "execution_count": 27,
      "outputs": [
        {
          "output_type": "display_data",
          "data": {
            "text/plain": [
              "<Figure size 1296x288 with 1 Axes>"
            ],
            "image/png": "[encoded data removed]"
          },
          "metadata": {
            "needs_background": "light"
          }
        }
      ]
    },
    {
      "cell_type": "markdown",
      "source": [
        "### active phone call"
      ],
      "metadata": {
        "id": "b21L6ZrqyK0N"
      }
    },
    {
      "cell_type": "code",
      "source": [
        "# Number of unique values\n",
        "df['active phone call'].unique()"
      ],
      "metadata": {
        "colab": {
          "base_uri": "https://localhost:8080/"
        },
        "id": "FWr1haHCwy6l",
        "outputId": "7a545a87-9d42-404c-d2aa-da22c0bfbb7b"
      },
      "execution_count": 28,
      "outputs": [
        {
          "output_type": "execute_result",
          "data": {
            "text/plain": [
              "array([nan,  1.,  0.])"
            ]
          },
          "metadata": {},
          "execution_count": 28
        }
      ]
    },
    {
      "cell_type": "code",
      "source": [
        "# Value counts of each category\n",
        "df['active phone call'].value_counts(dropna=False)"
      ],
      "metadata": {
        "colab": {
          "base_uri": "https://localhost:8080/"
        },
        "id": "TbQV7JtjyUdx",
        "outputId": "a021b0f8-686d-4052-81d0-9f9a955ec08f"
      },
      "execution_count": 29,
      "outputs": [
        {
          "output_type": "execute_result",
          "data": {
            "text/plain": [
              "NaN    7191\n",
              "0.0    3552\n",
              "1.0     226\n",
              "Name: active phone call, dtype: int64"
            ]
          },
          "metadata": {},
          "execution_count": 29
        }
      ]
    },
    {
      "cell_type": "code",
      "source": [
        "df['active phone call str'] = df['active phone call'].astype('str')"
      ],
      "metadata": {
        "id": "P_-lOukolCk0"
      },
      "execution_count": 37,
      "outputs": []
    },
    {
      "cell_type": "code",
      "source": [
        "df.groupby(['event_type_nm','active phone call str']).size().unstack()"
      ],
      "metadata": {
        "id": "d2ZV2QPoygQJ",
        "colab": {
          "base_uri": "https://localhost:8080/",
          "height": 551
        },
        "outputId": "508f7bf3-a0ac-43b9-ebf0-63724d894b2b"
      },
      "execution_count": 42,
      "outputs": [
        {
          "output_type": "execute_result",
          "data": {
            "text/plain": [
              "active phone call str     0.0    1.0     nan\n",
              "event_type_nm                               \n",
              "ADD_PAYEE                 1.0    NaN     NaN\n",
              "CARD_PIN_CHANGE          38.0    NaN    15.0\n",
              "CHANGE_ALERT_SETTINGS     7.0    2.0   140.0\n",
              "CHANGE_PASSWORD         164.0    5.0   100.0\n",
              "CHECK                     NaN    NaN   207.0\n",
              "CLIENT_DEFINED          228.0   11.0   134.0\n",
              "DEPOSIT                  41.0    1.0   290.0\n",
              "PAYMENT                1062.0   33.0  5292.0\n",
              "REQUEST_CREDIT           29.0   17.0    24.0\n",
              "REQUEST_NEW_CARD         14.0    5.0     5.0\n",
              "SESSION_SIGNIN         1938.0  146.0   546.0\n",
              "UPDATE_USER              16.0    3.0     NaN\n",
              "USER_DETAILS             14.0    3.0     2.0\n",
              "VIEW_STATEMENT            NaN    NaN   100.0\n",
              "WITHDRAW                  NaN    NaN   336.0"
            ],
            "text/html": [
              "\n",
              "  <div id=\"df-f727e9b3-07d1-4b7f-a0e6-7b2f6a576d76\">\n",
              "    <div class=\"colab-df-container\">\n",
              "      <div>\n",
              "<style scoped>\n",
              "    .dataframe tbody tr th:only-of-type {\n",
              "        vertical-align: middle;\n",
              "    }\n",
              "\n",
              "    .dataframe tbody tr th {\n",
              "        vertical-align: top;\n",
              "    }\n",
              "\n",
              "    .dataframe thead th {\n",
              "        text-align: right;\n",
              "    }\n",
              "</style>\n",
              "<table border=\"1\" class=\"dataframe\">\n",
              "  <thead>\n",
              "    <tr style=\"text-align: right;\">\n",
              "      <th>active phone call str</th>\n",
              "      <th>0.0</th>\n",
              "      <th>1.0</th>\n",
              "      <th>nan</th>\n",
              "    </tr>\n",
              "    <tr>\n",
              "      <th>event_type_nm</th>\n",
              "      <th></th>\n",
              "      <th></th>\n",
              "      <th></th>\n",
              "    </tr>\n",
              "  </thead>\n",
              "  <tbody>\n",
              "    <tr>\n",
              "      <th>ADD_PAYEE</th>\n",
              "      <td>1.0</td>\n",
              "      <td>NaN</td>\n",
              "      <td>NaN</td>\n",
              "    </tr>\n",
              "    <tr>\n",
              "      <th>CARD_PIN_CHANGE</th>\n",
              "      <td>38.0</td>\n",
              "      <td>NaN</td>\n",
              "      <td>15.0</td>\n",
              "    </tr>\n",
              "    <tr>\n",
              "      <th>CHANGE_ALERT_SETTINGS</th>\n",
              "      <td>7.0</td>\n",
              "      <td>2.0</td>\n",
              "      <td>140.0</td>\n",
              "    </tr>\n",
              "    <tr>\n",
              "      <th>CHANGE_PASSWORD</th>\n",
              "      <td>164.0</td>\n",
              "      <td>5.0</td>\n",
              "      <td>100.0</td>\n",
              "    </tr>\n",
              "    <tr>\n",
              "      <th>CHECK</th>\n",
              "      <td>NaN</td>\n",
              "      <td>NaN</td>\n",
              "      <td>207.0</td>\n",
              "    </tr>\n",
              "    <tr>\n",
              "      <th>CLIENT_DEFINED</th>\n",
              "      <td>228.0</td>\n",
              "      <td>11.0</td>\n",
              "      <td>134.0</td>\n",
              "    </tr>\n",
              "    <tr>\n",
              "      <th>DEPOSIT</th>\n",
              "      <td>41.0</td>\n",
              "      <td>1.0</td>\n",
              "      <td>290.0</td>\n",
              "    </tr>\n",
              "    <tr>\n",
              "      <th>PAYMENT</th>\n",
              "      <td>1062.0</td>\n",
              "      <td>33.0</td>\n",
              "      <td>5292.0</td>\n",
              "    </tr>\n",
              "    <tr>\n",
              "      <th>REQUEST_CREDIT</th>\n",
              "      <td>29.0</td>\n",
              "      <td>17.0</td>\n",
              "      <td>24.0</td>\n",
              "    </tr>\n",
              "    <tr>\n",
              "      <th>REQUEST_NEW_CARD</th>\n",
              "      <td>14.0</td>\n",
              "      <td>5.0</td>\n",
              "      <td>5.0</td>\n",
              "    </tr>\n",
              "    <tr>\n",
              "      <th>SESSION_SIGNIN</th>\n",
              "      <td>1938.0</td>\n",
              "      <td>146.0</td>\n",
              "      <td>546.0</td>\n",
              "    </tr>\n",
              "    <tr>\n",
              "      <th>UPDATE_USER</th>\n",
              "      <td>16.0</td>\n",
              "      <td>3.0</td>\n",
              "      <td>NaN</td>\n",
              "    </tr>\n",
              "    <tr>\n",
              "      <th>USER_DETAILS</th>\n",
              "      <td>14.0</td>\n",
              "      <td>3.0</td>\n",
              "      <td>2.0</td>\n",
              "    </tr>\n",
              "    <tr>\n",
              "      <th>VIEW_STATEMENT</th>\n",
              "      <td>NaN</td>\n",
              "      <td>NaN</td>\n",
              "      <td>100.0</td>\n",
              "    </tr>\n",
              "    <tr>\n",
              "      <th>WITHDRAW</th>\n",
              "      <td>NaN</td>\n",
              "      <td>NaN</td>\n",
              "      <td>336.0</td>\n",
              "    </tr>\n",
              "  </tbody>\n",
              "</table>\n",
              "</div>\n",
              "      <button class=\"colab-df-convert\" onclick=\"convertToInteractive('df-f727e9b3-07d1-4b7f-a0e6-7b2f6a576d76')\"\n",
              "              title=\"Convert this dataframe to an interactive table.\"\n",
              "              style=\"display:none;\">\n",
              "        \n",
              "  <svg xmlns=\"http://www.w3.org/2000/svg\" height=\"24px\"viewBox=\"0 0 24 24\"\n",
              "       width=\"24px\">\n",
              "    <path d=\"M0 0h24v24H0V0z\" fill=\"none\"/>\n",
              "    <path d=\"M18.56 5.44l.94 2.06.94-2.06 2.06-.94-2.06-.94-.94-2.06-.94 2.06-2.06.94zm-11 1L8.5 8.5l.94-2.06 2.06-.94-2.06-.94L8.5 2.5l-.94 2.06-2.06.94zm10 10l.94 2.06.94-2.06 2.06-.94-2.06-.94-.94-2.06-.94 2.06-2.06.94z\"/><path d=\"M17.41 7.96l-1.37-1.37c-.4-.4-.92-.59-1.43-.59-.52 0-1.04.2-1.43.59L10.3 9.45l-7.72 7.72c-.78.78-.78 2.05 0 2.83L4 21.41c.39.39.9.59 1.41.59.51 0 1.02-.2 1.41-.59l7.78-7.78 2.81-2.81c.8-.78.8-2.07 0-2.86zM5.41 20L4 18.59l7.72-7.72 1.47 1.35L5.41 20z\"/>\n",
              "  </svg>\n",
              "      </button>\n",
              "      \n",
              "  <style>\n",
              "    .colab-df-container {\n",
              "      display:flex;\n",
              "      flex-wrap:wrap;\n",
              "      gap: 12px;\n",
              "    }\n",
              "\n",
              "    .colab-df-convert {\n",
              "      background-color: #E8F0FE;\n",
              "      border: none;\n",
              "      border-radius: 50%;\n",
              "      cursor: pointer;\n",
              "      display: none;\n",
              "      fill: #1967D2;\n",
              "      height: 32px;\n",
              "      padding: 0 0 0 0;\n",
              "      width: 32px;\n",
              "    }\n",
              "\n",
              "    .colab-df-convert:hover {\n",
              "      background-color: #E2EBFA;\n",
              "      box-shadow: 0px 1px 2px rgba(60, 64, 67, 0.3), 0px 1px 3px 1px rgba(60, 64, 67, 0.15);\n",
              "      fill: #174EA6;\n",
              "    }\n",
              "\n",
              "    [theme=dark] .colab-df-convert {\n",
              "      background-color: #3B4455;\n",
              "      fill: #D2E3FC;\n",
              "    }\n",
              "\n",
              "    [theme=dark] .colab-df-convert:hover {\n",
              "      background-color: #434B5C;\n",
              "      box-shadow: 0px 1px 3px 1px rgba(0, 0, 0, 0.15);\n",
              "      filter: drop-shadow(0px 1px 2px rgba(0, 0, 0, 0.3));\n",
              "      fill: #FFFFFF;\n",
              "    }\n",
              "  </style>\n",
              "\n",
              "      <script>\n",
              "        const buttonEl =\n",
              "          document.querySelector('#df-f727e9b3-07d1-4b7f-a0e6-7b2f6a576d76 button.colab-df-convert');\n",
              "        buttonEl.style.display =\n",
              "          google.colab.kernel.accessAllowed ? 'block' : 'none';\n",
              "\n",
              "        async function convertToInteractive(key) {\n",
              "          const element = document.querySelector('#df-f727e9b3-07d1-4b7f-a0e6-7b2f6a576d76');\n",
              "          const dataTable =\n",
              "            await google.colab.kernel.invokeFunction('convertToInteractive',\n",
              "                                                     [key], {});\n",
              "          if (!dataTable) return;\n",
              "\n",
              "          const docLinkHtml = 'Like what you see? Visit the ' +\n",
              "            '<a target=\"_blank\" href=https://colab.research.google.com/notebooks/data_table.ipynb>data table notebook</a>'\n",
              "            + ' to learn more about interactive tables.';\n",
              "          element.innerHTML = '';\n",
              "          dataTable['output_type'] = 'display_data';\n",
              "          await google.colab.output.renderOutput(dataTable, element);\n",
              "          const docLink = document.createElement('div');\n",
              "          docLink.innerHTML = docLinkHtml;\n",
              "          element.appendChild(docLink);\n",
              "        }\n",
              "      </script>\n",
              "    </div>\n",
              "  </div>\n",
              "  "
            ]
          },
          "metadata": {},
          "execution_count": 42
        }
      ]
    },
    {
      "cell_type": "code",
      "source": [
        "sns.heatmap(df.groupby(['event_type_nm','active phone call str']).size().unstack());"
      ],
      "metadata": {
        "colab": {
          "base_uri": "https://localhost:8080/",
          "height": 279
        },
        "id": "pgLiYh3xkV2g",
        "outputId": "a0af9321-ff92-4502-fbb9-94d6e8156681"
      },
      "execution_count": 43,
      "outputs": [
        {
          "output_type": "display_data",
          "data": {
            "text/plain": [
              "<Figure size 432x288 with 2 Axes>"
            ],
            "image/png": "[encoded data removed]"
          },
          "metadata": {
            "needs_background": "light"
          }
        }
      ]
    },
    {
      "cell_type": "markdown",
      "source": [
        "Active Phone calls are mostly happening in two instances - Session signin and Payment. It is common that tele scammers call unsuspecting targets and trick them to give access to their computer. "
      ],
      "metadata": {
        "id": "ex_pgB3fxjc2"
      }
    },
    {
      "cell_type": "markdown",
      "source": [
        "### **Remote Desktop Protocol**"
      ],
      "metadata": {
        "id": "rBCXTxAJwEja"
      }
    },
    {
      "cell_type": "code",
      "source": [
        "# Unique values in this feature\n",
        "df['remote desktop protokol'].unique()"
      ],
      "metadata": {
        "colab": {
          "base_uri": "https://localhost:8080/"
        },
        "id": "sCQf99OBlr8I",
        "outputId": "47875d0a-d161-47e3-8aa6-af377c96a67d"
      },
      "execution_count": 44,
      "outputs": [
        {
          "output_type": "execute_result",
          "data": {
            "text/plain": [
              "array([nan, False, True], dtype=object)"
            ]
          },
          "metadata": {},
          "execution_count": 44
        }
      ]
    },
    {
      "cell_type": "code",
      "source": [
        "df['remote desktop protokol'].value_counts(dropna=False)"
      ],
      "metadata": {
        "colab": {
          "base_uri": "https://localhost:8080/"
        },
        "id": "qdKa0Ke-xBC9",
        "outputId": "6448b202-e1f3-4c1c-e6d6-69df2a594c8c"
      },
      "execution_count": 45,
      "outputs": [
        {
          "output_type": "execute_result",
          "data": {
            "text/plain": [
              "NaN      7183\n",
              "False    3768\n",
              "True       18\n",
              "Name: remote desktop protokol, dtype: int64"
            ]
          },
          "metadata": {},
          "execution_count": 45
        }
      ]
    },
    {
      "cell_type": "code",
      "source": [
        "df['remote desktop protokol str'] = df['remote desktop protokol'].astype('str')\n",
        "sns.heatmap(df.groupby(['event_type_nm','remote desktop protokol str']).size().unstack());"
      ],
      "metadata": {
        "colab": {
          "base_uri": "https://localhost:8080/",
          "height": 279
        },
        "id": "cP-Yr8VTxFGF",
        "outputId": "4151b3f4-4022-41b8-943b-01a3715fe3cb"
      },
      "execution_count": 47,
      "outputs": [
        {
          "output_type": "display_data",
          "data": {
            "text/plain": [
              "<Figure size 432x288 with 2 Axes>"
            ],
            "image/png": "[encoded data removed]"
          },
          "metadata": {
            "needs_background": "light"
          }
        }
      ]
    },
    {
      "cell_type": "markdown",
      "source": [
        "Similar story here as that of active phone call. One may say if we have active phone call, and remote desktop activated, it is 90% someone being scammed to give credit info."
      ],
      "metadata": {
        "id": "ry22B6k3yQKn"
      }
    },
    {
      "cell_type": "markdown",
      "source": [
        "### **emulator**"
      ],
      "metadata": {
        "id": "XxwXOHrmy6RW"
      }
    },
    {
      "cell_type": "code",
      "source": [
        "# Unique values in this feature\n",
        "df['emulator'].unique()"
      ],
      "metadata": {
        "colab": {
          "base_uri": "https://localhost:8080/"
        },
        "id": "KEtgGtQ_yD_c",
        "outputId": "ff5cc901-899b-42a6-b972-b928afc9deb8"
      },
      "execution_count": 48,
      "outputs": [
        {
          "output_type": "execute_result",
          "data": {
            "text/plain": [
              "array([ nan,   0., 322.])"
            ]
          },
          "metadata": {},
          "execution_count": 48
        }
      ]
    },
    {
      "cell_type": "markdown",
      "source": [
        "What is an emulator?  \n",
        "An emulator is a hardware device or software program that enables one computer system (also known as a host) to imitate the functions of another computer system (known as the guest). It enables the host system to run software, tools, peripheral devices and other components which are designed for the guest system. Emulators can be of different types, replicating things such as hardware, software, OS or CPU. However, in most cases hardware architecture is emulated to provide an environment similar to a guest system.\n",
        "\n",
        "Source: https://www.techopedia.com/definition/4788/emulator"
      ],
      "metadata": {
        "id": "cshQMFGNzVt3"
      }
    },
    {
      "cell_type": "markdown",
      "source": [
        "Scammer often use emulator to mask targets' computer screens and apply scare tactics such as deleting all folders and files of their PC. Emulator is mostly used in conjunction with remote desktop control. Let's check the same."
      ],
      "metadata": {
        "id": "xuqRaEEIzvpm"
      }
    },
    {
      "cell_type": "code",
      "source": [
        "df['emulator str'] = df['emulator'].astype('str')\n",
        "\n",
        "sns.heatmap(df.groupby(['emulator str','remote desktop protokol str']).size().unstack(),annot=True);"
      ],
      "metadata": {
        "colab": {
          "base_uri": "https://localhost:8080/",
          "height": 279
        },
        "id": "MxNAd0VZy_25",
        "outputId": "981a79dc-d487-4082-b105-663129d6f170"
      },
      "execution_count": 50,
      "outputs": [
        {
          "output_type": "display_data",
          "data": {
            "text/plain": [
              "<Figure size 432x288 with 2 Axes>"
            ],
            "image/png": "[encoded data removed]"
          },
          "metadata": {
            "needs_background": "light"
          }
        }
      ]
    },
    {
      "cell_type": "markdown",
      "source": [
        "We were wrong. Looks like emulator has not much to do with RDP, at least for this data sample."
      ],
      "metadata": {
        "id": "HqeYM3za0sKe"
      }
    },
    {
      "cell_type": "markdown",
      "source": [
        "### **f**"
      ],
      "metadata": {
        "id": "LkkQ074F018N"
      }
    },
    {
      "cell_type": "code",
      "source": [
        "# Nuumber of unique values in this feature\n",
        "df['f'].nunique()"
      ],
      "metadata": {
        "colab": {
          "base_uri": "https://localhost:8080/"
        },
        "id": "mudR5Zj-0SGS",
        "outputId": "8ca92e32-053f-4230-e5b8-a06fbbb270ef"
      },
      "execution_count": 51,
      "outputs": [
        {
          "output_type": "execute_result",
          "data": {
            "text/plain": [
              "82"
            ]
          },
          "metadata": {},
          "execution_count": 51
        }
      ]
    },
    {
      "cell_type": "code",
      "source": [
        "df.f.value_counts().nlargest(15).plot(kind='barh');"
      ],
      "metadata": {
        "colab": {
          "base_uri": "https://localhost:8080/",
          "height": 265
        },
        "id": "mabdU5WG0861",
        "outputId": "f3a76c39-680d-43a1-db4c-d9eaad45816a"
      },
      "execution_count": 52,
      "outputs": [
        {
          "output_type": "display_data",
          "data": {
            "text/plain": [
              "<Figure size 432x288 with 1 Axes>"
            ],
            "image/png": "[encoded data removed]"
          },
          "metadata": {
            "needs_background": "light"
          }
        }
      ]
    },
    {
      "cell_type": "code",
      "source": [],
      "metadata": {
        "id": "Xq1n5fgr1E7_"
      },
      "execution_count": null,
      "outputs": []
    }
  ]
}